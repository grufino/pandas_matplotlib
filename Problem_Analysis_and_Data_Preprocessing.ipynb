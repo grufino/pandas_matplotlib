{
 "cells": [
  {
   "cell_type": "markdown",
   "metadata": {},
   "source": [
    "# Data Preprocessing\n",
    "\n",
    "The goal of this lab is to introduce you to data preprocessing techniques in order to make your data suitable for applying a learning algorithm.\n",
    "\n",
    "## 1. Handling Missing Values\n",
    "\n",
    "A common (and very unfortunate) data property is the ocurrence of missing and erroneous values in multiple features in datasets. For this exercise we will be using a data set about abalone snails.\n",
    "The data set is contained in the Zip file you downloaded from Moodle.\n",
    "\n",
    "To determine the age of a abalone snail you have to kill the snail and count the annual\n",
    "rings. You are told to estimate the age of a snail on the basis of the following attributes:\n",
    "1. type: male (0), female (1) and infant (2)\n",
    "2. length in mm\n",
    "3. width in mm\n",
    "4. height in mm\n",
    "5. total weight in grams\n",
    "6. weight of the meat in grams\n",
    "7. drained weight in grams\n",
    "8. weight of the shell in grams\n",
    "9. number of annual rings (number of rings +1, 5 yields age)\n",
    "\n",
    "However, the data is incomplete. Missing values are marked with −1."
   ]
  },
  {
   "cell_type": "code",
   "execution_count": 478,
   "metadata": {
    "scrolled": true
   },
   "outputs": [
    {
     "data": {
      "text/plain": "   type  length  width  height  total_weight  meat_weight  drained_weight  \\\n0     0   0.350  0.265   0.090        0.2255       0.0995          0.0485   \n1     1   0.530  0.420   0.135        0.6770       0.2565          0.1415   \n2     0   0.440  0.365   0.125        0.5160       0.2155          0.1140   \n3     2  -1.000  0.255   0.080        0.2050       0.0895          0.0395   \n4     2   0.425  0.300   0.095        0.3515       0.1410          0.0775   \n\n   shell_weight  num_rings  \n0         0.070         -1  \n1         0.210          9  \n2         0.155         10  \n3         0.055          7  \n4         0.120          8  ",
      "text/html": "<div>\n<style scoped>\n    .dataframe tbody tr th:only-of-type {\n        vertical-align: middle;\n    }\n\n    .dataframe tbody tr th {\n        vertical-align: top;\n    }\n\n    .dataframe thead th {\n        text-align: right;\n    }\n</style>\n<table border=\"1\" class=\"dataframe\">\n  <thead>\n    <tr style=\"text-align: right;\">\n      <th></th>\n      <th>type</th>\n      <th>length</th>\n      <th>width</th>\n      <th>height</th>\n      <th>total_weight</th>\n      <th>meat_weight</th>\n      <th>drained_weight</th>\n      <th>shell_weight</th>\n      <th>num_rings</th>\n    </tr>\n  </thead>\n  <tbody>\n    <tr>\n      <th>0</th>\n      <td>0</td>\n      <td>0.350</td>\n      <td>0.265</td>\n      <td>0.090</td>\n      <td>0.2255</td>\n      <td>0.0995</td>\n      <td>0.0485</td>\n      <td>0.070</td>\n      <td>-1</td>\n    </tr>\n    <tr>\n      <th>1</th>\n      <td>1</td>\n      <td>0.530</td>\n      <td>0.420</td>\n      <td>0.135</td>\n      <td>0.6770</td>\n      <td>0.2565</td>\n      <td>0.1415</td>\n      <td>0.210</td>\n      <td>9</td>\n    </tr>\n    <tr>\n      <th>2</th>\n      <td>0</td>\n      <td>0.440</td>\n      <td>0.365</td>\n      <td>0.125</td>\n      <td>0.5160</td>\n      <td>0.2155</td>\n      <td>0.1140</td>\n      <td>0.155</td>\n      <td>10</td>\n    </tr>\n    <tr>\n      <th>3</th>\n      <td>2</td>\n      <td>-1.000</td>\n      <td>0.255</td>\n      <td>0.080</td>\n      <td>0.2050</td>\n      <td>0.0895</td>\n      <td>0.0395</td>\n      <td>0.055</td>\n      <td>7</td>\n    </tr>\n    <tr>\n      <th>4</th>\n      <td>2</td>\n      <td>0.425</td>\n      <td>0.300</td>\n      <td>0.095</td>\n      <td>0.3515</td>\n      <td>0.1410</td>\n      <td>0.0775</td>\n      <td>0.120</td>\n      <td>8</td>\n    </tr>\n  </tbody>\n</table>\n</div>"
     },
     "execution_count": 478,
     "metadata": {},
     "output_type": "execute_result"
    }
   ],
   "source": [
    "import pandas as pd\n",
    "# load data \n",
    "df = pd.read_csv(\"http://www.cs.uni-potsdam.de/ml/teaching/ss15/ida/uebung02/abalone.csv\")\n",
    "df.columns=['type','length','width','height','total_weight','meat_weight','drained_weight','shell_weight','num_rings']\n",
    "df.head()"
   ]
  },
  {
   "cell_type": "markdown",
   "metadata": {},
   "source": [
    "### Exercise 1.1\n",
    "\n",
    "Compute the mean of of each numeric column and the counts of each categorical column, excluding the missing values."
   ]
  },
  {
   "cell_type": "code",
   "execution_count": 479,
   "metadata": {},
   "outputs": [
    {
     "data": {
      "text/plain": "type              0.955671\nlength            0.523445\nwidth             0.407424\nheight            0.139467\ntotal_weight      0.826354\nmeat_weight       0.358718\ndrained_weight    0.179689\nshell_weight      0.238330\nnum_rings         9.925099\ndtype: float64"
     },
     "execution_count": 479,
     "metadata": {},
     "output_type": "execute_result"
    }
   ],
   "source": [
    "df_filtered = df[(df >= 0).all(axis=1)]\n",
    "df_filtered.mean()"
   ]
  },
  {
   "cell_type": "markdown",
   "metadata": {},
   "source": [
    "### Exercise 1.2\n",
    "\n",
    "Compute the median of each numeric column,  excluding the missing values."
   ]
  },
  {
   "cell_type": "code",
   "execution_count": 480,
   "metadata": {},
   "outputs": [
    {
     "data": {
      "text/plain": "type              1.0000\nlength            0.5450\nwidth             0.4250\nheight            0.1400\ntotal_weight      0.8025\nmeat_weight       0.3385\ndrained_weight    0.1710\nshell_weight      0.2350\nnum_rings         9.0000\ndtype: float64"
     },
     "execution_count": 480,
     "metadata": {},
     "output_type": "execute_result"
    }
   ],
   "source": [
    "df_filtered.median()"
   ]
  },
  {
   "cell_type": "markdown",
   "metadata": {},
   "source": [
    "### Exercise 1.3\n",
    "\n",
    "Handle the missing values in a way that you find suitable. Argue your choices."
   ]
  },
  {
   "cell_type": "code",
   "execution_count": 481,
   "metadata": {},
   "outputs": [
    {
     "data": {
      "text/plain": "      type    length  width  height  total_weight  meat_weight  \\\n0      0.0  0.350000  0.265   0.090      0.225500       0.0995   \n1      1.0  0.530000  0.420   0.135      0.677000       0.2565   \n2      0.0  0.440000  0.365   0.125      0.516000       0.2155   \n3      2.0  0.523445  0.255   0.080      0.205000       0.0895   \n4      2.0  0.425000  0.300   0.095      0.351500       0.1410   \n...    ...       ...    ...     ...           ...          ...   \n4171   1.0  0.565000  0.450   0.165      0.887000       0.3700   \n4172   0.0  0.590000  0.440   0.135      0.966000       0.4390   \n4173   0.0  0.600000  0.475   0.205      1.176000       0.5255   \n4174   1.0  0.625000  0.485   0.150      0.826354       0.5310   \n4175   0.0  0.710000  0.555   0.195      1.948500       0.9455   \n\n      drained_weight  shell_weight  num_rings  \n0             0.0485        0.0700   9.925099  \n1             0.1415        0.2100   9.000000  \n2             0.1140        0.1550  10.000000  \n3             0.0395        0.0550   7.000000  \n4             0.0775        0.1200   8.000000  \n...              ...           ...        ...  \n4171          0.2390        0.2490  11.000000  \n4172          0.2145        0.2605  10.000000  \n4173          0.2875        0.3080   9.000000  \n4174          0.2610        0.2960  10.000000  \n4175          0.3765        0.4950  12.000000  \n\n[4176 rows x 9 columns]",
      "text/html": "<div>\n<style scoped>\n    .dataframe tbody tr th:only-of-type {\n        vertical-align: middle;\n    }\n\n    .dataframe tbody tr th {\n        vertical-align: top;\n    }\n\n    .dataframe thead th {\n        text-align: right;\n    }\n</style>\n<table border=\"1\" class=\"dataframe\">\n  <thead>\n    <tr style=\"text-align: right;\">\n      <th></th>\n      <th>type</th>\n      <th>length</th>\n      <th>width</th>\n      <th>height</th>\n      <th>total_weight</th>\n      <th>meat_weight</th>\n      <th>drained_weight</th>\n      <th>shell_weight</th>\n      <th>num_rings</th>\n    </tr>\n  </thead>\n  <tbody>\n    <tr>\n      <th>0</th>\n      <td>0.0</td>\n      <td>0.350000</td>\n      <td>0.265</td>\n      <td>0.090</td>\n      <td>0.225500</td>\n      <td>0.0995</td>\n      <td>0.0485</td>\n      <td>0.0700</td>\n      <td>9.925099</td>\n    </tr>\n    <tr>\n      <th>1</th>\n      <td>1.0</td>\n      <td>0.530000</td>\n      <td>0.420</td>\n      <td>0.135</td>\n      <td>0.677000</td>\n      <td>0.2565</td>\n      <td>0.1415</td>\n      <td>0.2100</td>\n      <td>9.000000</td>\n    </tr>\n    <tr>\n      <th>2</th>\n      <td>0.0</td>\n      <td>0.440000</td>\n      <td>0.365</td>\n      <td>0.125</td>\n      <td>0.516000</td>\n      <td>0.2155</td>\n      <td>0.1140</td>\n      <td>0.1550</td>\n      <td>10.000000</td>\n    </tr>\n    <tr>\n      <th>3</th>\n      <td>2.0</td>\n      <td>0.523445</td>\n      <td>0.255</td>\n      <td>0.080</td>\n      <td>0.205000</td>\n      <td>0.0895</td>\n      <td>0.0395</td>\n      <td>0.0550</td>\n      <td>7.000000</td>\n    </tr>\n    <tr>\n      <th>4</th>\n      <td>2.0</td>\n      <td>0.425000</td>\n      <td>0.300</td>\n      <td>0.095</td>\n      <td>0.351500</td>\n      <td>0.1410</td>\n      <td>0.0775</td>\n      <td>0.1200</td>\n      <td>8.000000</td>\n    </tr>\n    <tr>\n      <th>...</th>\n      <td>...</td>\n      <td>...</td>\n      <td>...</td>\n      <td>...</td>\n      <td>...</td>\n      <td>...</td>\n      <td>...</td>\n      <td>...</td>\n      <td>...</td>\n    </tr>\n    <tr>\n      <th>4171</th>\n      <td>1.0</td>\n      <td>0.565000</td>\n      <td>0.450</td>\n      <td>0.165</td>\n      <td>0.887000</td>\n      <td>0.3700</td>\n      <td>0.2390</td>\n      <td>0.2490</td>\n      <td>11.000000</td>\n    </tr>\n    <tr>\n      <th>4172</th>\n      <td>0.0</td>\n      <td>0.590000</td>\n      <td>0.440</td>\n      <td>0.135</td>\n      <td>0.966000</td>\n      <td>0.4390</td>\n      <td>0.2145</td>\n      <td>0.2605</td>\n      <td>10.000000</td>\n    </tr>\n    <tr>\n      <th>4173</th>\n      <td>0.0</td>\n      <td>0.600000</td>\n      <td>0.475</td>\n      <td>0.205</td>\n      <td>1.176000</td>\n      <td>0.5255</td>\n      <td>0.2875</td>\n      <td>0.3080</td>\n      <td>9.000000</td>\n    </tr>\n    <tr>\n      <th>4174</th>\n      <td>1.0</td>\n      <td>0.625000</td>\n      <td>0.485</td>\n      <td>0.150</td>\n      <td>0.826354</td>\n      <td>0.5310</td>\n      <td>0.2610</td>\n      <td>0.2960</td>\n      <td>10.000000</td>\n    </tr>\n    <tr>\n      <th>4175</th>\n      <td>0.0</td>\n      <td>0.710000</td>\n      <td>0.555</td>\n      <td>0.195</td>\n      <td>1.948500</td>\n      <td>0.9455</td>\n      <td>0.3765</td>\n      <td>0.4950</td>\n      <td>12.000000</td>\n    </tr>\n  </tbody>\n</table>\n<p>4176 rows × 9 columns</p>\n</div>"
     },
     "execution_count": 481,
     "metadata": {},
     "output_type": "execute_result"
    }
   ],
   "source": [
    "means = df_filtered.mean()\n",
    "\n",
    "def apply_mean(row):\n",
    "    for idx, val in row.iteritems():\n",
    "        if(str(idx) != 'type' and val < 0):\n",
    "            row[idx] = means[idx]\n",
    "\n",
    "    return row\n",
    "df.apply(\n",
    "    apply_mean,\n",
    "    axis=1\n",
    ")"
   ]
  },
  {
   "cell_type": "markdown",
   "metadata": {},
   "source": [
    "### Exercise 1.4\n",
    "\n",
    "Perform Z-score normalization on every column (except the type of course!)"
   ]
  },
  {
   "cell_type": "code",
   "execution_count": 482,
   "metadata": {},
   "outputs": [
    {
     "data": {
      "text/plain": "      type    length     width    height  total_weight  meat_weight  \\\n0        0 -0.451473 -0.391655 -0.079741     -0.990006    -0.686869   \n1        1  0.181195  0.208519  0.147786     -0.187401    -0.194627   \n2        0 -0.135139 -0.004446  0.097225     -0.473601    -0.323174   \n3        2 -5.196486 -0.430376 -0.130303     -1.026448    -0.718223   \n4        2 -0.187861 -0.256132 -0.054460     -0.766023    -0.556754   \n...    ...       ...       ...       ...           ...          ...   \n4171     1  0.304214  0.324682  0.299471      0.185904     0.161230   \n4172     0  0.392085  0.285961  0.147786      0.326338     0.377566   \n4173     0  0.427233  0.421484  0.501717      0.699642     0.648770   \n4174     1  0.515104  0.460205  0.223629     -3.168507     0.666014   \n4175     0  0.813864  0.731252  0.451156      2.072871     1.965597   \n\n      drained_weight  shell_weight  num_rings  \n0          -0.465320     -0.587534  -2.965209  \n1          -0.036612      0.007002  -0.184327  \n2          -0.163380     -0.226566   0.093762  \n3          -0.506807     -0.651234  -0.740503  \n4          -0.331637     -0.375200  -0.462415  \n...              ...           ...        ...  \n4171        0.412839      0.172623   0.371850  \n4172        0.299900      0.221460   0.093762  \n4173        0.636413      0.423177  -0.184327  \n4174        0.514254      0.372217   0.093762  \n4175        1.046681      1.217308   0.649938  \n\n[4176 rows x 9 columns]",
      "text/html": "<div>\n<style scoped>\n    .dataframe tbody tr th:only-of-type {\n        vertical-align: middle;\n    }\n\n    .dataframe tbody tr th {\n        vertical-align: top;\n    }\n\n    .dataframe thead th {\n        text-align: right;\n    }\n</style>\n<table border=\"1\" class=\"dataframe\">\n  <thead>\n    <tr style=\"text-align: right;\">\n      <th></th>\n      <th>type</th>\n      <th>length</th>\n      <th>width</th>\n      <th>height</th>\n      <th>total_weight</th>\n      <th>meat_weight</th>\n      <th>drained_weight</th>\n      <th>shell_weight</th>\n      <th>num_rings</th>\n    </tr>\n  </thead>\n  <tbody>\n    <tr>\n      <th>0</th>\n      <td>0</td>\n      <td>-0.451473</td>\n      <td>-0.391655</td>\n      <td>-0.079741</td>\n      <td>-0.990006</td>\n      <td>-0.686869</td>\n      <td>-0.465320</td>\n      <td>-0.587534</td>\n      <td>-2.965209</td>\n    </tr>\n    <tr>\n      <th>1</th>\n      <td>1</td>\n      <td>0.181195</td>\n      <td>0.208519</td>\n      <td>0.147786</td>\n      <td>-0.187401</td>\n      <td>-0.194627</td>\n      <td>-0.036612</td>\n      <td>0.007002</td>\n      <td>-0.184327</td>\n    </tr>\n    <tr>\n      <th>2</th>\n      <td>0</td>\n      <td>-0.135139</td>\n      <td>-0.004446</td>\n      <td>0.097225</td>\n      <td>-0.473601</td>\n      <td>-0.323174</td>\n      <td>-0.163380</td>\n      <td>-0.226566</td>\n      <td>0.093762</td>\n    </tr>\n    <tr>\n      <th>3</th>\n      <td>2</td>\n      <td>-5.196486</td>\n      <td>-0.430376</td>\n      <td>-0.130303</td>\n      <td>-1.026448</td>\n      <td>-0.718223</td>\n      <td>-0.506807</td>\n      <td>-0.651234</td>\n      <td>-0.740503</td>\n    </tr>\n    <tr>\n      <th>4</th>\n      <td>2</td>\n      <td>-0.187861</td>\n      <td>-0.256132</td>\n      <td>-0.054460</td>\n      <td>-0.766023</td>\n      <td>-0.556754</td>\n      <td>-0.331637</td>\n      <td>-0.375200</td>\n      <td>-0.462415</td>\n    </tr>\n    <tr>\n      <th>...</th>\n      <td>...</td>\n      <td>...</td>\n      <td>...</td>\n      <td>...</td>\n      <td>...</td>\n      <td>...</td>\n      <td>...</td>\n      <td>...</td>\n      <td>...</td>\n    </tr>\n    <tr>\n      <th>4171</th>\n      <td>1</td>\n      <td>0.304214</td>\n      <td>0.324682</td>\n      <td>0.299471</td>\n      <td>0.185904</td>\n      <td>0.161230</td>\n      <td>0.412839</td>\n      <td>0.172623</td>\n      <td>0.371850</td>\n    </tr>\n    <tr>\n      <th>4172</th>\n      <td>0</td>\n      <td>0.392085</td>\n      <td>0.285961</td>\n      <td>0.147786</td>\n      <td>0.326338</td>\n      <td>0.377566</td>\n      <td>0.299900</td>\n      <td>0.221460</td>\n      <td>0.093762</td>\n    </tr>\n    <tr>\n      <th>4173</th>\n      <td>0</td>\n      <td>0.427233</td>\n      <td>0.421484</td>\n      <td>0.501717</td>\n      <td>0.699642</td>\n      <td>0.648770</td>\n      <td>0.636413</td>\n      <td>0.423177</td>\n      <td>-0.184327</td>\n    </tr>\n    <tr>\n      <th>4174</th>\n      <td>1</td>\n      <td>0.515104</td>\n      <td>0.460205</td>\n      <td>0.223629</td>\n      <td>-3.168507</td>\n      <td>0.666014</td>\n      <td>0.514254</td>\n      <td>0.372217</td>\n      <td>0.093762</td>\n    </tr>\n    <tr>\n      <th>4175</th>\n      <td>0</td>\n      <td>0.813864</td>\n      <td>0.731252</td>\n      <td>0.451156</td>\n      <td>2.072871</td>\n      <td>1.965597</td>\n      <td>1.046681</td>\n      <td>1.217308</td>\n      <td>0.649938</td>\n    </tr>\n  </tbody>\n</table>\n<p>4176 rows × 9 columns</p>\n</div>"
     },
     "execution_count": 482,
     "metadata": {},
     "output_type": "execute_result"
    }
   ],
   "source": [
    "zscore_df = (df - df.mean())/df.std()\n",
    "\n",
    "zscore_df['type'] = df['type']\n",
    "zscore_df"
   ]
  },
  {
   "cell_type": "markdown",
   "metadata": {},
   "source": [
    "## 2. Preprocessing text (Optional)\n",
    "\n",
    "One possible way to transform text documents into vectors of numeric attributes is to use the TF-IDF representation. We will experiment with this representation using the 20 Newsgroup data set. The data set contains postings on 20 different topics. The classification problem is to decide which of the topics a posting falls into. Here, we will only consider postings about medicine and space."
   ]
  },
  {
   "cell_type": "code",
   "execution_count": 483,
   "metadata": {},
   "outputs": [
    {
     "name": "stdout",
     "output_type": "stream",
     "text": [
      "The index of each category is: [(0, 'sci.med'), (1, 'sci.space')]\n"
     ]
    }
   ],
   "source": [
    "from sklearn.datasets import fetch_20newsgroups\n",
    "\n",
    "\n",
    "categories = ['sci.med', 'sci.space']\n",
    "raw_data = fetch_20newsgroups(subset='train', categories=categories, shuffle=True, random_state=42)\n",
    "print(f'The index of each category is: {[(i,target) for i,target in enumerate(raw_data.target_names)]}')"
   ]
  },
  {
   "cell_type": "markdown",
   "metadata": {},
   "source": [
    "Check out some of the postings, might find some funny ones!"
   ]
  },
  {
   "cell_type": "code",
   "execution_count": 484,
   "metadata": {},
   "outputs": [
    {
     "name": "stdout",
     "output_type": "stream",
     "text": [
      "This is a sci.med email.\n",
      "\n",
      "There are 1187 emails.\n",
      "\n",
      "From: uabdpo.dpo.uab.edu!gila005 (Stephen Holland)\n",
      "Subject: Re: diet for Crohn's (IBD)\n",
      "Organization: Gastroenterology - Univ. of Alabama\n",
      "Distribution: usa\n",
      "Lines: 36\n",
      "\n",
      "In article <1r6g8fINNe88@ceti.cs.unc.edu>, jge@cs.unc.edu (John Eyles)\n",
      "wrote:\n",
      "> \n",
      "> \n",
      "> A friend has what is apparently a fairly minor case of Crohn's\n",
      "> disease.\n",
      "> \n",
      "> But she can't seem to eat certain foods, such as fresh vegetables,\n",
      "> without discomfort, and of course she wants to avoid a recurrence.\n",
      "> \n",
      "> Her question is: are there any nutritionists who specialize in the\n",
      "> problems of people with Crohn's disease ?\n",
      "> \n",
      "> (I saw the suggestion of lipoxygnase inhibitors like tea and turmeric).\n",
      "> \n",
      "> Thanks in advance,\n",
      "> John Eyles\n",
      "> jge@cs.unc.edu\n",
      "\n",
      "If she is having problems with fresh vegetables, the guess is that there\n",
      "is some obstruction of the intestine.  Without knowing more it is not\n",
      "possible to say whether the obstruction is permanent due to scarring,\n",
      "or temporary due to swelling of inflammed intestine.  In general, there are\n",
      "no dietary limitations in patients with Crohn's except as they relate\n",
      "to obstruction.  There is no evidence that any foods will bring on \n",
      "recurrence of Crohn's.  It is important to distinguish recurrence from\n",
      "recurrent symptoms.  A physician would think of new inflammation as \n",
      "recurrence, while pains from raw veggies just imply a narrowing of the\n",
      "intestine.  \n",
      "\n",
      "Your friend should look into membership in the Crohn's and Colitis \n",
      "Foundation of America.   1-800-932-2423\n",
      "\n",
      "Good luck to your friend.\n",
      "\n",
      "Steve Holland\n",
      "\n"
     ]
    }
   ],
   "source": [
    "import numpy as np\n",
    "idx = np.random.randint(0, len(raw_data.data))\n",
    "print (f'This is a {raw_data.target_names[raw_data.target[idx]]} email.\\n')\n",
    "print (f'There are {len(raw_data.data)} emails.\\n')\n",
    "print(raw_data.data[idx])"
   ]
  },
  {
   "cell_type": "markdown",
   "metadata": {},
   "source": [
    "Lets pick the first 10 postings from each category"
   ]
  },
  {
   "cell_type": "code",
   "execution_count": 485,
   "metadata": {},
   "outputs": [],
   "source": [
    "idxs_med = np.flatnonzero(raw_data.target == 0)\n",
    "idxs_space = np.flatnonzero(raw_data.target == 1)\n",
    "idxs = np.concatenate([idxs_med[:10],idxs_space[:10]])\n",
    "data = np.array(raw_data.data)\n",
    "data = data[idxs]"
   ]
  },
  {
   "cell_type": "markdown",
   "metadata": {},
   "source": [
    "<a href=\"http://www.nltk.org/\">NLTK</a> is a toolkit for natural language processing. Take some time to install it and go through this <a href=\"http://www.slideshare.net/japerk/nltk-in-20-minutes\">short tutorial/presentation</a>.\n",
    "\n",
    "The downloaded package below is a tokenizer that divides a text into a list of sentences, by using an unsupervised algorithm to build a model for abbreviation words, collocations, and words that start sentences."
   ]
  },
  {
   "cell_type": "code",
   "execution_count": 486,
   "metadata": {},
   "outputs": [
    {
     "name": "stderr",
     "output_type": "stream",
     "text": [
      "[nltk_data] Downloading package punkt to /Users/grufino/nltk_data...\n",
      "[nltk_data]   Package punkt is already up-to-date!\n"
     ]
    }
   ],
   "source": [
    "import nltk\n",
    "import itertools\n",
    "nltk.download('punkt')\n",
    "\n",
    "# Tokenize the sentences into words\n",
    "tokenized_sentences = [nltk.word_tokenize(sent) for sent in data]\n",
    "vocabulary_size = 1000\n",
    "unknown_token = 'unknown'"
   ]
  },
  {
   "cell_type": "code",
   "execution_count": 487,
   "metadata": {},
   "outputs": [
    {
     "name": "stdout",
     "output_type": "stream",
     "text": [
      "Found 1636 unique words tokens.\n"
     ]
    }
   ],
   "source": [
    "# Count the word frequencies\n",
    "word_freq = nltk.FreqDist(itertools.chain(*tokenized_sentences))\n",
    "print (f\"Found {len(word_freq.items())} unique words tokens.\")"
   ]
  },
  {
   "cell_type": "code",
   "execution_count": 488,
   "metadata": {},
   "outputs": [
    {
     "name": "stdout",
     "output_type": "stream",
     "text": [
      "Using vocabulary size 1000.\n",
      "The least frequent word in our vocabulary is 'AN' and appeared 1 times.\n"
     ]
    }
   ],
   "source": [
    "# Get the most common words and build index_to_word and word_to_index vectors\n",
    "vocab = word_freq.most_common(vocabulary_size-1)\n",
    "index_to_word = [x[0] for x in vocab]\n",
    "index_to_word.append(unknown_token)\n",
    "word_to_index = dict([(w,i) for i,w in enumerate(index_to_word)])\n",
    " \n",
    "print (f\"Using vocabulary size {vocabulary_size}.\" )\n",
    "print (f\"The least frequent word in our vocabulary is '{vocab[-1][0]}' and appeared {vocab[-1][1]} times.\")"
   ]
  },
  {
   "cell_type": "markdown",
   "metadata": {},
   "source": [
    "### Exercise 2.1\n",
    "\n",
    "Code your own TF-IDF representation function and use it on this dataset. (Don't use code from libraries. Build your own function with Numpy/Pandas). Use the formular TFIDF = TF * (IDF+1). The effect of adding “1” to the idf in the equation above is that terms with zero idf, i.e., terms that occur in all documents in a training set, will not be entirely ignored. The term frequency is the raw count of a term in a document. The inverse document frequency is the natural logarithm of the inverse fraction of the documents that contain the word."
   ]
  },
  {
   "cell_type": "code",
   "execution_count": 489,
   "metadata": {},
   "outputs": [
    {
     "name": "stdout",
     "output_type": "stream",
     "text": [
      "02          6.991465\n",
      "041300      6.991465\n",
      "07          6.991465\n",
      "0815        6.991465\n",
      "10          6.991465\n",
      "             ...    \n",
      "younger     6.991465\n",
      "your       12.596635\n",
      "z3          6.991465\n",
      "zeta        6.991465\n",
      "zeus       12.596635\n",
      "Length: 1440, dtype: float64\n",
      "Is this implementation correct?\n",
      "Answer: Yes\n"
     ]
    }
   ],
   "source": [
    "from sklearn.feature_extraction.text import CountVectorizer\n",
    "countvec = CountVectorizer()\n",
    "df = pd.DataFrame(countvec.fit_transform(data).toarray(), columns=countvec.get_feature_names())\n",
    "\n",
    "def tfidf(df):\n",
    "    sums = df.sum()\n",
    "    count_docs = len(df)\n",
    "    idfs = sums.apply(\n",
    "        lambda x: (np.log(count_docs / (x / count_docs)) + 1) * x\n",
    "    )\n",
    "    print(idfs)\n",
    "    return idfs\n",
    "\n",
    "    \n",
    "    \n",
    "rep = tfidf(df)\n",
    "\n",
    "# Check if your implementation is correct\n",
    "from sklearn.feature_extraction.text import TfidfVectorizer\n",
    "vectorizer = TfidfVectorizer(norm=None, smooth_idf=False, use_idf=True)\n",
    "X_train = pd.DataFrame(vectorizer.fit_transform(data).toarray(), columns=countvec.get_feature_names())\n",
    "answer=['No','Yes']\n",
    "epsilon = 0.0001\n",
    "if rep is not None:\n",
    "    print (f'Is this implementation correct?\\nAnswer: {answer[1*np.all((X_train - rep) < epsilon)]}')"
   ]
  }
 ],
 "metadata": {
  "kernelspec": {
   "display_name": "Python 3",
   "language": "python",
   "name": "python3"
  },
  "language_info": {
   "codemirror_mode": {
    "name": "ipython",
    "version": 3
   },
   "file_extension": ".py",
   "mimetype": "text/x-python",
   "name": "python",
   "nbconvert_exporter": "python",
   "pygments_lexer": "ipython3",
   "version": "3.6.10"
  }
 },
 "nbformat": 4,
 "nbformat_minor": 1
}