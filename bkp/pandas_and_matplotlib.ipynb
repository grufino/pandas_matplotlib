{
 "cells": [
  {
   "cell_type": "markdown",
   "metadata": {},
   "source": [
    "## Learning Pandas and Matplotlib"
   ]
  },
  {
   "cell_type": "markdown",
   "metadata": {
    "collapsed": true
   },
   "source": [
    "Pandas is pythons library that enables broad possibilities for data analysis.\n",
    "By using Pandas it is very easy to upload, manage and analyse data from different tables by using SQL-like commands. Moreover, in connection with the libraries Matplotlib and Seaborn, Pandas gives broad opportunities to visualise the data."
   ]
  },
  {
   "cell_type": "code",
   "execution_count": 100,
   "metadata": {},
   "outputs": [],
   "source": [
    "import pandas as pd\n",
    "import numpy as np\n",
    "\n",
    "from matplotlib import pyplot as plt\n",
    "from matplotlib.pyplot import rcParams\n",
    "rcParams['figure.figsize'] = 8, 5\n",
    "import seaborn as sns"
   ]
  },
  {
   "cell_type": "markdown",
   "metadata": {},
   "source": [
    "We study the main methods of packages Pandas and Matplotlib by working with the dataset that describes the churn rate of the customers of a telecom company. "
   ]
  },
  {
   "cell_type": "markdown",
   "metadata": {},
   "source": [
    "<b>Exercise 1:</b>\n",
    "\n",
    "Read the data from the file 'telecom_churn.csv' and display the first 5 rows by using the method 'head'. <b> Hint :</b> method read_csv may be useful"
   ]
  },
  {
   "cell_type": "code",
   "execution_count": 101,
   "metadata": {},
   "outputs": [
    {
     "data": {
      "text/plain": "  State  Account length  Area code International plan Voice mail plan  \\\n0    KS             128        415                 No             Yes   \n1    OH             107        415                 No             Yes   \n2    NJ             137        415                 No              No   \n3    OH              84        408                Yes              No   \n4    OK              75        415                Yes              No   \n\n   Number vmail messages  Total day minutes  Total day calls  \\\n0                     25              265.1              110   \n1                     26              161.6              123   \n2                      0              243.4              114   \n3                      0              299.4               71   \n4                      0              166.7              113   \n\n   Total day charge  Total eve minutes  Total eve calls  Total eve charge  \\\n0             45.07              197.4               99             16.78   \n1             27.47              195.5              103             16.62   \n2             41.38              121.2              110             10.30   \n3             50.90               61.9               88              5.26   \n4             28.34              148.3              122             12.61   \n\n   Total night minutes  Total night calls  Total night charge  \\\n0                244.7                 91               11.01   \n1                254.4                103               11.45   \n2                162.6                104                7.32   \n3                196.9                 89                8.86   \n4                186.9                121                8.41   \n\n   Total intl minutes  Total intl calls  Total intl charge  \\\n0                10.0                 3               2.70   \n1                13.7                 3               3.70   \n2                12.2                 5               3.29   \n3                 6.6                 7               1.78   \n4                10.1                 3               2.73   \n\n   Customer service calls  Churn  \n0                       1  False  \n1                       1  False  \n2                       0  False  \n3                       2  False  \n4                       3  False  ",
      "text/html": "<div>\n<style scoped>\n    .dataframe tbody tr th:only-of-type {\n        vertical-align: middle;\n    }\n\n    .dataframe tbody tr th {\n        vertical-align: top;\n    }\n\n    .dataframe thead th {\n        text-align: right;\n    }\n</style>\n<table border=\"1\" class=\"dataframe\">\n  <thead>\n    <tr style=\"text-align: right;\">\n      <th></th>\n      <th>State</th>\n      <th>Account length</th>\n      <th>Area code</th>\n      <th>International plan</th>\n      <th>Voice mail plan</th>\n      <th>Number vmail messages</th>\n      <th>Total day minutes</th>\n      <th>Total day calls</th>\n      <th>Total day charge</th>\n      <th>Total eve minutes</th>\n      <th>Total eve calls</th>\n      <th>Total eve charge</th>\n      <th>Total night minutes</th>\n      <th>Total night calls</th>\n      <th>Total night charge</th>\n      <th>Total intl minutes</th>\n      <th>Total intl calls</th>\n      <th>Total intl charge</th>\n      <th>Customer service calls</th>\n      <th>Churn</th>\n    </tr>\n  </thead>\n  <tbody>\n    <tr>\n      <th>0</th>\n      <td>KS</td>\n      <td>128</td>\n      <td>415</td>\n      <td>No</td>\n      <td>Yes</td>\n      <td>25</td>\n      <td>265.1</td>\n      <td>110</td>\n      <td>45.07</td>\n      <td>197.4</td>\n      <td>99</td>\n      <td>16.78</td>\n      <td>244.7</td>\n      <td>91</td>\n      <td>11.01</td>\n      <td>10.0</td>\n      <td>3</td>\n      <td>2.70</td>\n      <td>1</td>\n      <td>False</td>\n    </tr>\n    <tr>\n      <th>1</th>\n      <td>OH</td>\n      <td>107</td>\n      <td>415</td>\n      <td>No</td>\n      <td>Yes</td>\n      <td>26</td>\n      <td>161.6</td>\n      <td>123</td>\n      <td>27.47</td>\n      <td>195.5</td>\n      <td>103</td>\n      <td>16.62</td>\n      <td>254.4</td>\n      <td>103</td>\n      <td>11.45</td>\n      <td>13.7</td>\n      <td>3</td>\n      <td>3.70</td>\n      <td>1</td>\n      <td>False</td>\n    </tr>\n    <tr>\n      <th>2</th>\n      <td>NJ</td>\n      <td>137</td>\n      <td>415</td>\n      <td>No</td>\n      <td>No</td>\n      <td>0</td>\n      <td>243.4</td>\n      <td>114</td>\n      <td>41.38</td>\n      <td>121.2</td>\n      <td>110</td>\n      <td>10.30</td>\n      <td>162.6</td>\n      <td>104</td>\n      <td>7.32</td>\n      <td>12.2</td>\n      <td>5</td>\n      <td>3.29</td>\n      <td>0</td>\n      <td>False</td>\n    </tr>\n    <tr>\n      <th>3</th>\n      <td>OH</td>\n      <td>84</td>\n      <td>408</td>\n      <td>Yes</td>\n      <td>No</td>\n      <td>0</td>\n      <td>299.4</td>\n      <td>71</td>\n      <td>50.90</td>\n      <td>61.9</td>\n      <td>88</td>\n      <td>5.26</td>\n      <td>196.9</td>\n      <td>89</td>\n      <td>8.86</td>\n      <td>6.6</td>\n      <td>7</td>\n      <td>1.78</td>\n      <td>2</td>\n      <td>False</td>\n    </tr>\n    <tr>\n      <th>4</th>\n      <td>OK</td>\n      <td>75</td>\n      <td>415</td>\n      <td>Yes</td>\n      <td>No</td>\n      <td>0</td>\n      <td>166.7</td>\n      <td>113</td>\n      <td>28.34</td>\n      <td>148.3</td>\n      <td>122</td>\n      <td>12.61</td>\n      <td>186.9</td>\n      <td>121</td>\n      <td>8.41</td>\n      <td>10.1</td>\n      <td>3</td>\n      <td>2.73</td>\n      <td>3</td>\n      <td>False</td>\n    </tr>\n  </tbody>\n</table>\n</div>"
     },
     "execution_count": 101,
     "metadata": {},
     "output_type": "execute_result"
    }
   ],
   "source": [
    "### Write Your code here ###\n",
    "import pandas as pd\n",
    "df = pd.read_csv('data/telecom_churn.csv')\n",
    "df.head()"
   ]
  },
  {
   "cell_type": "markdown",
   "metadata": {},
   "source": [
    "<b>Exercise 2:</b>\n",
    "\n",
    "Display the size of the data array, information about it, and its main statistical characteristics. <b>Hint:</b> use methods shape, info, describe."
   ]
  },
  {
   "cell_type": "code",
   "execution_count": 102,
   "metadata": {},
   "outputs": [
    {
     "name": "stdout",
     "output_type": "stream",
     "text": [
      "<class 'pandas.core.frame.DataFrame'>\n",
      "RangeIndex: 3333 entries, 0 to 3332\n",
      "Data columns (total 20 columns):\n",
      " #   Column                  Non-Null Count  Dtype  \n",
      "---  ------                  --------------  -----  \n",
      " 0   State                   3333 non-null   object \n",
      " 1   Account length          3333 non-null   int64  \n",
      " 2   Area code               3333 non-null   int64  \n",
      " 3   International plan      3333 non-null   object \n",
      " 4   Voice mail plan         3333 non-null   object \n",
      " 5   Number vmail messages   3333 non-null   int64  \n",
      " 6   Total day minutes       3333 non-null   float64\n",
      " 7   Total day calls         3333 non-null   int64  \n",
      " 8   Total day charge        3333 non-null   float64\n",
      " 9   Total eve minutes       3333 non-null   float64\n",
      " 10  Total eve calls         3333 non-null   int64  \n",
      " 11  Total eve charge        3333 non-null   float64\n",
      " 12  Total night minutes     3333 non-null   float64\n",
      " 13  Total night calls       3333 non-null   int64  \n",
      " 14  Total night charge      3333 non-null   float64\n",
      " 15  Total intl minutes      3333 non-null   float64\n",
      " 16  Total intl calls        3333 non-null   int64  \n",
      " 17  Total intl charge       3333 non-null   float64\n",
      " 18  Customer service calls  3333 non-null   int64  \n",
      " 19  Churn                   3333 non-null   bool   \n",
      "dtypes: bool(1), float64(8), int64(8), object(3)\n",
      "memory usage: 498.1+ KB\n",
      "None\n",
      "       Account length    Area code  Number vmail messages  Total day minutes  \\\n",
      "count     3333.000000  3333.000000            3333.000000        3333.000000   \n",
      "mean       101.064806   437.182418               8.099010         179.775098   \n",
      "std         39.822106    42.371290              13.688365          54.467389   \n",
      "min          1.000000   408.000000               0.000000           0.000000   \n",
      "25%         74.000000   408.000000               0.000000         143.700000   \n",
      "50%        101.000000   415.000000               0.000000         179.400000   \n",
      "75%        127.000000   510.000000              20.000000         216.400000   \n",
      "max        243.000000   510.000000              51.000000         350.800000   \n",
      "\n",
      "       Total day calls  Total day charge  Total eve minutes  Total eve calls  \\\n",
      "count      3333.000000       3333.000000        3333.000000      3333.000000   \n",
      "mean        100.435644         30.562307         200.980348       100.114311   \n",
      "std          20.069084          9.259435          50.713844        19.922625   \n",
      "min           0.000000          0.000000           0.000000         0.000000   \n",
      "25%          87.000000         24.430000         166.600000        87.000000   \n",
      "50%         101.000000         30.500000         201.400000       100.000000   \n",
      "75%         114.000000         36.790000         235.300000       114.000000   \n",
      "max         165.000000         59.640000         363.700000       170.000000   \n",
      "\n",
      "       Total eve charge  Total night minutes  Total night calls  \\\n",
      "count       3333.000000          3333.000000        3333.000000   \n",
      "mean          17.083540           200.872037         100.107711   \n",
      "std            4.310668            50.573847          19.568609   \n",
      "min            0.000000            23.200000          33.000000   \n",
      "25%           14.160000           167.000000          87.000000   \n",
      "50%           17.120000           201.200000         100.000000   \n",
      "75%           20.000000           235.300000         113.000000   \n",
      "max           30.910000           395.000000         175.000000   \n",
      "\n",
      "       Total night charge  Total intl minutes  Total intl calls  \\\n",
      "count         3333.000000         3333.000000       3333.000000   \n",
      "mean             9.039325           10.237294          4.479448   \n",
      "std              2.275873            2.791840          2.461214   \n",
      "min              1.040000            0.000000          0.000000   \n",
      "25%              7.520000            8.500000          3.000000   \n",
      "50%              9.050000           10.300000          4.000000   \n",
      "75%             10.590000           12.100000          6.000000   \n",
      "max             17.770000           20.000000         20.000000   \n",
      "\n",
      "       Total intl charge  Customer service calls  \n",
      "count        3333.000000             3333.000000  \n",
      "mean            2.764581                1.562856  \n",
      "std             0.753773                1.315491  \n",
      "min             0.000000                0.000000  \n",
      "25%             2.300000                1.000000  \n",
      "50%             2.780000                1.000000  \n",
      "75%             3.270000                2.000000  \n",
      "max             5.400000                9.000000  \n"
     ]
    }
   ],
   "source": [
    "import pandas as pd\n",
    "df = pd.read_csv('data/telecom_churn.csv')\n",
    "print(df.info())\n",
    "print(df.describe())"
   ]
  },
  {
   "cell_type": "markdown",
   "metadata": {},
   "source": [
    "<b>Exercise 3:\n",
    "\n",
    "</b>Convert column 'Churn' to the int64 type. <b> Hint:</b> use method astype.\n",
    "Plot the distribution of the churn and  loyal clients in the bar plot. The figure should look like this:\n",
    "\n",
    "<img src=\"data/dist_churn.png\">"
   ]
  },
  {
   "cell_type": "code",
   "execution_count": 103,
   "metadata": {},
   "outputs": [
    {
     "data": {
      "text/plain": "<Figure size 576x360 with 1 Axes>",
      "image/png": "[encoded data removed]"
     },
     "metadata": {
      "needs_background": "light"
     },
     "output_type": "display_data"
    }
   ],
   "source": [
    "import pandas as pd\n",
    "df = pd.read_csv('data/telecom_churn.csv')\n",
    "df.astype({'Churn': 'int32'})['Churn'].value_counts().plot(kind='bar');\n",
    "\n",
    "### Write Your code here ###\n"
   ]
  },
  {
   "cell_type": "markdown",
   "metadata": {},
   "source": [
    "### Sorting\n",
    "\n",
    "<b>Exercise 4:</b>\n",
    "\n",
    "Sort the dataframe you have obtained in exercise 3 by the value in 'Total day charge' in descending/ascending order.\n",
    "Also sort it by using the column 'Churn' as the primary key and 'Total eve calls' as the secondary key. Try different combinations of ordering. <b> Hint:</b> use the method sort_values"
   ]
  },
  {
   "cell_type": "code",
   "execution_count": 104,
   "metadata": {},
   "outputs": [
    {
     "data": {
      "text/plain": "     State  Account length  Area code International plan Voice mail plan  \\\n2932    UT              97        415                 No              No   \n960     AR               5        415                 No              No   \n1615    CT              74        408                 No              No   \n646     WV             153        408                 No             Yes   \n475     AR              74        510                 No              No   \n...    ...             ...        ...                ...             ...   \n1122    NE             159        415                 No              No   \n1739    NJ              80        415                 No              No   \n2267    MS              29        510                 No              No   \n3157    AR             127        415                Yes              No   \n301     FL             127        415                 No              No   \n\n      Number vmail messages  Total day minutes  Total day calls  \\\n2932                      0              209.2              134   \n960                       0              199.2              106   \n1615                      0              157.1               95   \n646                      28              235.6               74   \n475                       0              148.5              111   \n...                     ...                ...              ...   \n1122                      0              189.1              105   \n1739                      0              268.7              120   \n2267                      0              313.2              103   \n3157                      0              143.2               60   \n301                       0              266.6              106   \n\n      Total day charge  Total eve minutes  Total eve calls  Total eve charge  \\\n2932             35.56                0.0                0              0.00   \n960              33.86              187.3               12             15.92   \n1615             26.71              213.1               36             18.11   \n646              40.05              227.9               37             19.37   \n475              25.25              146.5               42             12.45   \n...                ...                ...              ...               ...   \n1122             32.15              246.1              147             20.92   \n1739             45.68              301.0              147             25.59   \n2267             53.24              216.3              151             18.39   \n3157             24.34              179.5              159             15.26   \n301              45.32              264.8              168             22.51   \n\n      Total night minutes  Total night calls  Total night charge  \\\n2932                175.4                 94                7.89   \n960                 214.0                 85                9.63   \n1615                280.4                 77               12.62   \n646                 170.3                103                7.66   \n475                 289.2                 83               13.01   \n...                   ...                ...                 ...   \n1122                242.0                106               10.89   \n1739                167.0                140                7.52   \n2267                218.4                106                9.83   \n3157                171.8                122                7.73   \n301                 207.2                119                9.32   \n\n      Total intl minutes  Total intl calls  Total intl charge  \\\n2932                11.8                 6               3.19   \n960                 13.3                 3               3.59   \n1615                 7.6                 3               2.05   \n646                 15.4                 9               4.16   \n475                  9.9                 6               2.67   \n...                  ...               ...                ...   \n1122                10.4                 5               2.81   \n1739                 5.8                 1               1.57   \n2267                12.8                 4               3.46   \n3157                 6.2                 4               1.67   \n301                  5.9                 2               1.59   \n\n      Customer service calls  Churn  \n2932                       1  False  \n960                        3  False  \n1615                       2  False  \n646                        0  False  \n475                        3  False  \n...                      ...    ...  \n1122                       1   True  \n1739                       2   True  \n2267                       2   True  \n3157                       4   True  \n301                        1   True  \n\n[3333 rows x 20 columns]",
      "text/html": "<div>\n<style scoped>\n    .dataframe tbody tr th:only-of-type {\n        vertical-align: middle;\n    }\n\n    .dataframe tbody tr th {\n        vertical-align: top;\n    }\n\n    .dataframe thead th {\n        text-align: right;\n    }\n</style>\n<table border=\"1\" class=\"dataframe\">\n  <thead>\n    <tr style=\"text-align: right;\">\n      <th></th>\n      <th>State</th>\n      <th>Account length</th>\n      <th>Area code</th>\n      <th>International plan</th>\n      <th>Voice mail plan</th>\n      <th>Number vmail messages</th>\n      <th>Total day minutes</th>\n      <th>Total day calls</th>\n      <th>Total day charge</th>\n      <th>Total eve minutes</th>\n      <th>Total eve calls</th>\n      <th>Total eve charge</th>\n      <th>Total night minutes</th>\n      <th>Total night calls</th>\n      <th>Total night charge</th>\n      <th>Total intl minutes</th>\n      <th>Total intl calls</th>\n      <th>Total intl charge</th>\n      <th>Customer service calls</th>\n      <th>Churn</th>\n    </tr>\n  </thead>\n  <tbody>\n    <tr>\n      <th>2932</th>\n      <td>UT</td>\n      <td>97</td>\n      <td>415</td>\n      <td>No</td>\n      <td>No</td>\n      <td>0</td>\n      <td>209.2</td>\n      <td>134</td>\n      <td>35.56</td>\n      <td>0.0</td>\n      <td>0</td>\n      <td>0.00</td>\n      <td>175.4</td>\n      <td>94</td>\n      <td>7.89</td>\n      <td>11.8</td>\n      <td>6</td>\n      <td>3.19</td>\n      <td>1</td>\n      <td>False</td>\n    </tr>\n    <tr>\n      <th>960</th>\n      <td>AR</td>\n      <td>5</td>\n      <td>415</td>\n      <td>No</td>\n      <td>No</td>\n      <td>0</td>\n      <td>199.2</td>\n      <td>106</td>\n      <td>33.86</td>\n      <td>187.3</td>\n      <td>12</td>\n      <td>15.92</td>\n      <td>214.0</td>\n      <td>85</td>\n      <td>9.63</td>\n      <td>13.3</td>\n      <td>3</td>\n      <td>3.59</td>\n      <td>3</td>\n      <td>False</td>\n    </tr>\n    <tr>\n      <th>1615</th>\n      <td>CT</td>\n      <td>74</td>\n      <td>408</td>\n      <td>No</td>\n      <td>No</td>\n      <td>0</td>\n      <td>157.1</td>\n      <td>95</td>\n      <td>26.71</td>\n      <td>213.1</td>\n      <td>36</td>\n      <td>18.11</td>\n      <td>280.4</td>\n      <td>77</td>\n      <td>12.62</td>\n      <td>7.6</td>\n      <td>3</td>\n      <td>2.05</td>\n      <td>2</td>\n      <td>False</td>\n    </tr>\n    <tr>\n      <th>646</th>\n      <td>WV</td>\n      <td>153</td>\n      <td>408</td>\n      <td>No</td>\n      <td>Yes</td>\n      <td>28</td>\n      <td>235.6</td>\n      <td>74</td>\n      <td>40.05</td>\n      <td>227.9</td>\n      <td>37</td>\n      <td>19.37</td>\n      <td>170.3</td>\n      <td>103</td>\n      <td>7.66</td>\n      <td>15.4</td>\n      <td>9</td>\n      <td>4.16</td>\n      <td>0</td>\n      <td>False</td>\n    </tr>\n    <tr>\n      <th>475</th>\n      <td>AR</td>\n      <td>74</td>\n      <td>510</td>\n      <td>No</td>\n      <td>No</td>\n      <td>0</td>\n      <td>148.5</td>\n      <td>111</td>\n      <td>25.25</td>\n      <td>146.5</td>\n      <td>42</td>\n      <td>12.45</td>\n      <td>289.2</td>\n      <td>83</td>\n      <td>13.01</td>\n      <td>9.9</td>\n      <td>6</td>\n      <td>2.67</td>\n      <td>3</td>\n      <td>False</td>\n    </tr>\n    <tr>\n      <th>...</th>\n      <td>...</td>\n      <td>...</td>\n      <td>...</td>\n      <td>...</td>\n      <td>...</td>\n      <td>...</td>\n      <td>...</td>\n      <td>...</td>\n      <td>...</td>\n      <td>...</td>\n      <td>...</td>\n      <td>...</td>\n      <td>...</td>\n      <td>...</td>\n      <td>...</td>\n      <td>...</td>\n      <td>...</td>\n      <td>...</td>\n      <td>...</td>\n      <td>...</td>\n    </tr>\n    <tr>\n      <th>1122</th>\n      <td>NE</td>\n      <td>159</td>\n      <td>415</td>\n      <td>No</td>\n      <td>No</td>\n      <td>0</td>\n      <td>189.1</td>\n      <td>105</td>\n      <td>32.15</td>\n      <td>246.1</td>\n      <td>147</td>\n      <td>20.92</td>\n      <td>242.0</td>\n      <td>106</td>\n      <td>10.89</td>\n      <td>10.4</td>\n      <td>5</td>\n      <td>2.81</td>\n      <td>1</td>\n      <td>True</td>\n    </tr>\n    <tr>\n      <th>1739</th>\n      <td>NJ</td>\n      <td>80</td>\n      <td>415</td>\n      <td>No</td>\n      <td>No</td>\n      <td>0</td>\n      <td>268.7</td>\n      <td>120</td>\n      <td>45.68</td>\n      <td>301.0</td>\n      <td>147</td>\n      <td>25.59</td>\n      <td>167.0</td>\n      <td>140</td>\n      <td>7.52</td>\n      <td>5.8</td>\n      <td>1</td>\n      <td>1.57</td>\n      <td>2</td>\n      <td>True</td>\n    </tr>\n    <tr>\n      <th>2267</th>\n      <td>MS</td>\n      <td>29</td>\n      <td>510</td>\n      <td>No</td>\n      <td>No</td>\n      <td>0</td>\n      <td>313.2</td>\n      <td>103</td>\n      <td>53.24</td>\n      <td>216.3</td>\n      <td>151</td>\n      <td>18.39</td>\n      <td>218.4</td>\n      <td>106</td>\n      <td>9.83</td>\n      <td>12.8</td>\n      <td>4</td>\n      <td>3.46</td>\n      <td>2</td>\n      <td>True</td>\n    </tr>\n    <tr>\n      <th>3157</th>\n      <td>AR</td>\n      <td>127</td>\n      <td>415</td>\n      <td>Yes</td>\n      <td>No</td>\n      <td>0</td>\n      <td>143.2</td>\n      <td>60</td>\n      <td>24.34</td>\n      <td>179.5</td>\n      <td>159</td>\n      <td>15.26</td>\n      <td>171.8</td>\n      <td>122</td>\n      <td>7.73</td>\n      <td>6.2</td>\n      <td>4</td>\n      <td>1.67</td>\n      <td>4</td>\n      <td>True</td>\n    </tr>\n    <tr>\n      <th>301</th>\n      <td>FL</td>\n      <td>127</td>\n      <td>415</td>\n      <td>No</td>\n      <td>No</td>\n      <td>0</td>\n      <td>266.6</td>\n      <td>106</td>\n      <td>45.32</td>\n      <td>264.8</td>\n      <td>168</td>\n      <td>22.51</td>\n      <td>207.2</td>\n      <td>119</td>\n      <td>9.32</td>\n      <td>5.9</td>\n      <td>2</td>\n      <td>1.59</td>\n      <td>1</td>\n      <td>True</td>\n    </tr>\n  </tbody>\n</table>\n<p>3333 rows × 20 columns</p>\n</div>"
     },
     "execution_count": 104,
     "metadata": {},
     "output_type": "execute_result"
    }
   ],
   "source": [
    "### Write Your code here ###\n",
    "import pandas as pd\n",
    "df = pd.read_csv('data/telecom_churn.csv')\n",
    "df.sort_values(by=['Churn', 'Total eve calls'])"
   ]
  },
  {
   "cell_type": "markdown",
   "metadata": {},
   "source": [
    "### Indexing and extracting information from the dataframe\n",
    "\n",
    "By using Pandas dataframes we are able to index and extract information from the dataset. You can index the information stored in dataframe either by names or by indices. In the first case you use the command loc, in the second iloc. <b> Hint: </b> Use logical indexing for the columns and the groupby method to solve the tasks.\n",
    "\n",
    "<b>Exercise 5:</b>\n",
    "* Display the mean churn rate of the clients.\n",
    "* Now we want to analyse statistical information only for the clients, which are or aren't loyal to their telecom-company (field 'Churn' in dataframe). Extract the loyal and non-loyal clients from the table seperately and display the means of their charateristics in a single dataframe.\n",
    "* How long do the non-loyal users talk during the day (on average)?\n",
    "* What is the maximum length of the international calls for the loyal users that do not use the international plan?"
   ]
  },
  {
   "cell_type": "code",
   "execution_count": 105,
   "metadata": {},
   "outputs": [
    {
     "name": "stdout",
     "output_type": "stream",
     "text": [
      "Account length            102.664596\n",
      "Area code                 437.817805\n",
      "Number vmail messages       5.115942\n",
      "Total day minutes         206.914079\n",
      "Total day calls           101.335404\n",
      "Total day charge           35.175921\n",
      "Total eve minutes         212.410145\n",
      "Total eve calls           100.561077\n",
      "Total eve charge           18.054969\n",
      "Total night minutes       205.231677\n",
      "Total night calls         100.399586\n",
      "Total night charge          9.235528\n",
      "Total intl minutes         10.700000\n",
      "Total intl calls            4.163561\n",
      "Total intl charge           2.889545\n",
      "Customer service calls      2.229814\n",
      "Churn                       1.000000\n",
      "dtype: float64\n",
      "Account length            100.793684\n",
      "Area code                 437.074737\n",
      "Number vmail messages       8.604561\n",
      "Total day minutes         175.175754\n",
      "Total day calls           100.283158\n",
      "Total day charge           29.780421\n",
      "Total eve minutes         199.043298\n",
      "Total eve calls           100.038596\n",
      "Total eve charge           16.918909\n",
      "Total night minutes       200.133193\n",
      "Total night calls         100.058246\n",
      "Total night charge          9.006074\n",
      "Total intl minutes         10.158877\n",
      "Total intl calls            4.532982\n",
      "Total intl charge           2.743404\n",
      "Customer service calls      1.449825\n",
      "Churn                       0.000000\n",
      "dtype: float64\n",
      "State                        WY\n",
      "Account length              243\n",
      "Area code                   510\n",
      "International plan           No\n",
      "Voice mail plan             Yes\n",
      "Number vmail messages        51\n",
      "Total day minutes         315.6\n",
      "Total day calls             163\n",
      "Total day charge          53.65\n",
      "Total eve minutes         361.8\n",
      "Total eve calls             170\n",
      "Total eve charge          30.75\n",
      "Total night minutes         395\n",
      "Total night calls           175\n",
      "Total night charge        17.77\n",
      "Total intl minutes         18.9\n",
      "Total intl calls             19\n",
      "Total intl charge           5.1\n",
      "Customer service calls        8\n",
      "Churn                         0\n",
      "dtype: object\n"
     ]
    }
   ],
   "source": [
    "### Write Your code here ###\n",
    "import pandas as pd\n",
    "df = pd.read_csv('data/telecom_churn.csv').astype({'Churn': 'int32'})\n",
    "\n",
    "print(df.loc[df.Churn > 0].mean())\n",
    "print(df.loc[df.Churn < 1].mean())\n",
    "\n",
    "print(df.loc[(df['Churn'] < 1) & (df['Customer service calls'] == 'No')].max())"
   ]
  },
  {
   "cell_type": "markdown",
   "metadata": {
    "collapsed": true
   },
   "source": [
    "### Distribution of the features\n",
    "\n",
    "<b>Exercise 6:</b>\n",
    "\n",
    "Plot the distribution of the features that have numerical values. <b> Hint: </b>use the method hist which can also be applied from the pandas dataframe. It should look like that:\n",
    "<img src=\"data/hist_feat.png\">\n",
    "\n",
    "What do you observe? From which probability distribution could each feature be generated?"
   ]
  },
  {
   "cell_type": "code",
   "execution_count": 106,
   "metadata": {},
   "outputs": [
    {
     "data": {
      "text/plain": "array([[<AxesSubplot:title={'center':'Account length'}>,\n        <AxesSubplot:title={'center':'Area code'}>,\n        <AxesSubplot:title={'center':'Number vmail messages'}>,\n        <AxesSubplot:title={'center':'Total day minutes'}>],\n       [<AxesSubplot:title={'center':'Total day calls'}>,\n        <AxesSubplot:title={'center':'Total day charge'}>,\n        <AxesSubplot:title={'center':'Total eve minutes'}>,\n        <AxesSubplot:title={'center':'Total eve calls'}>],\n       [<AxesSubplot:title={'center':'Total eve charge'}>,\n        <AxesSubplot:title={'center':'Total night minutes'}>,\n        <AxesSubplot:title={'center':'Total night calls'}>,\n        <AxesSubplot:title={'center':'Total night charge'}>],\n       [<AxesSubplot:title={'center':'Total intl minutes'}>,\n        <AxesSubplot:title={'center':'Total intl calls'}>,\n        <AxesSubplot:title={'center':'Total intl charge'}>,\n        <AxesSubplot:title={'center':'Customer service calls'}>],\n       [<AxesSubplot:title={'center':'Churn'}>, <AxesSubplot:>,\n        <AxesSubplot:>, <AxesSubplot:>]], dtype=object)"
     },
     "execution_count": 106,
     "metadata": {},
     "output_type": "execute_result"
    },
    {
     "data": {
      "text/plain": "<Figure size 576x360 with 20 Axes>",
      "image/png": "[encoded data removed]"
     },
     "metadata": {
      "needs_background": "light"
     },
     "output_type": "display_data"
    }
   ],
   "source": [
    "import pandas as pd\n",
    "pd.read_csv('data/telecom_churn.csv').astype({'Churn': 'int32'}).hist()\n"
   ]
  },
  {
   "cell_type": "markdown",
   "metadata": {},
   "source": [
    "### Pivot tables and graphics\n",
    "\n",
    "We want to see how the instances are distributed between two categories: 'International plan' and 'Churn'. \n",
    "\n",
    "<b>Exercise 7:</b>\n",
    "* Build the cross table between the features using the method <i>crosstab</i>.\n",
    "* Visualize the distribution for the feature 'Churn', depending on the value of the features 'International plan', 'Voice mail plan', and 'Customer service calls'.\n",
    "<b>Hint:</b> Use commands plt.sublot and sns.subplots.\n",
    "\n",
    "Your plot should look something like this:\n",
    "<img src=\"data/dist_crosstab.png\">\n",
    "\n",
    "What do you see? What conclusions can be drawn? What feature (intuitively) can be more important for Churn prediction?"
   ]
  },
  {
   "cell_type": "code",
   "execution_count": 124,
   "metadata": {},
   "outputs": [
    {
     "data": {
      "text/plain": "<Figure size 576x360 with 3 Axes>",
      "image/png": "[encoded data removed]"
     },
     "metadata": {
      "needs_background": "light"
     },
     "output_type": "display_data"
    }
   ],
   "source": [
    "import pandas as pd\n",
    "import matplotlib.pyplot as plt\n",
    "import seaborn as sns\n",
    "df = pd.read_csv('data/telecom_churn.csv').astype({'Churn': 'int32'})\n",
    "\n",
    "fig,(ax1,ax2,ax3) = plt.subplots(ncols=3)\n",
    "\n",
    "pd.crosstab(df['Churn'], df['Voice mail plan']).plot(ax=ax1, kind='bar', stacked=False)\n",
    "\n",
    "pd.crosstab(df['Churn'], df['International plan']).plot(ax=ax2, kind='bar', stacked=False)\n",
    "\n",
    "pd.crosstab(df['Churn'], df['Customer service calls']).plot(ax=ax3, kind='bar', stacked=False)\n",
    "\n",
    "plt.show()\n"
   ]
  },
  {
   "cell_type": "markdown",
   "metadata": {},
   "source": [
    "<b>Exercise 8:</b>\n",
    "\n",
    "Add a new feature to the dataframe which will describe whether or not the user has done more than 3 service calls. Investigate how this feature describes the churn rate."
   ]
  },
  {
   "cell_type": "code",
   "execution_count": 136,
   "metadata": {},
   "outputs": [
    {
     "data": {
      "text/plain": "<AxesSubplot:xlabel='Churn'>"
     },
     "execution_count": 136,
     "metadata": {},
     "output_type": "execute_result"
    },
    {
     "data": {
      "text/plain": "<Figure size 576x360 with 1 Axes>",
      "image/png": "[encoded data removed]"
     },
     "metadata": {
      "needs_background": "light"
     },
     "output_type": "display_data"
    }
   ],
   "source": [
    "import pandas as pd\n",
    "import matplotlib.pyplot as plt\n",
    "import seaborn as sns\n",
    "\n",
    "df = pd.read_csv('data/telecom_churn.csv').astype({'Churn': 'int32'})\n",
    "df['Done 3 calls']=np.where(df['Customer service calls'] > 3, 'Yes', 'No')\n",
    "\n",
    "pd.crosstab(df['Churn'], df['Done 3 calls']).plot(kind='bar', stacked=False)"
   ]
  }
 ],
 "metadata": {
  "kernelspec": {
   "display_name": "Python 3",
   "language": "python",
   "name": "python3"
  },
  "language_info": {
   "codemirror_mode": {
    "name": "ipython",
    "version": 3
   },
   "file_extension": ".py",
   "mimetype": "text/x-python",
   "name": "python",
   "nbconvert_exporter": "python",
   "pygments_lexer": "ipython3",
   "version": "3.9.0"
  }
 },
 "nbformat": 4,
 "nbformat_minor": 2
}