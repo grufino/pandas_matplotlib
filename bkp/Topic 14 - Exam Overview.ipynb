{
 "cells": [
  {
   "cell_type": "markdown",
   "metadata": {
    "slideshow": {
     "slide_type": "slide"
    }
   },
   "source": [
    "# Data Science exam preview "
   ]
  },
  {
   "cell_type": "markdown",
   "metadata": {
    "slideshow": {
     "slide_type": "slide"
    }
   },
   "source": [
    "## Exam structure\n",
    "\n",
    "* 15 multiple choice questions, each 1 point\n",
    "* 15 programming and theory questions, each 2 points\n",
    "* Total: 45 points\n",
    "* At least 21 points are needed to pass the exam"
   ]
  },
  {
   "cell_type": "markdown",
   "metadata": {
    "slideshow": {
     "slide_type": "slide"
    }
   },
   "source": [
    "## Scope\n",
    "\n",
    "* All lecture slides/iPython notebooks except for “Introduction to Data Science”\n",
    "* All exercises from the tutorial"
   ]
  },
  {
   "cell_type": "markdown",
   "metadata": {
    "slideshow": {
     "slide_type": "slide"
    }
   },
   "source": [
    "## Multipe Choice Questions"
   ]
  },
  {
   "cell_type": "markdown",
   "metadata": {
    "slideshow": {
     "slide_type": "slide"
    }
   },
   "source": [
    "### Hints\n",
    "\n",
    "* Only one correct answer\n",
    "* Understanding (not memorising) of lectures and exercises material is sufficient\n",
    "* \n",
    "Narrow your choice by excluding incorrect answers"
   ]
  },
  {
   "cell_type": "markdown",
   "metadata": {
    "slideshow": {
     "slide_type": "slide"
    }
   },
   "source": [
    "### Question 1\n",
    "\n",
    "Which of the following statements is a definition of *clustering* predictive model? `(note: clustering was not covered in this course, so such a question will not occur at the actual exam)`\n",
    "1. Clustering is an unsupervised learning algorithm that attempts to identify groups of similar objects.\n",
    "2. Clustering is learning a function that maps a data item to a real-valued prediction variable. \n",
    "3. Clustering creates clusters of data items that occur together frequently.\n",
    "4. Clustering tries to predict the value of one or more descrete outcomes."
   ]
  },
  {
   "cell_type": "markdown",
   "metadata": {
    "slideshow": {
     "slide_type": "slide"
    }
   },
   "source": [
    "### Question 2\n",
    "\n",
    "What will be printed out when the following code is executed:\n",
    "\n",
    "```python\n",
    "def func(a, b, c=10, d=100): \n",
    "  print(a, b, c, d)\n",
    "\n",
    "func(1,2,3)\n",
    "```\n",
    "\n",
    "1. 1 2\n",
    "1. 1 2 3\n",
    "1. 1 2 10\n",
    "1. 1 2 3 100"
   ]
  },
  {
   "cell_type": "code",
   "execution_count": 6,
   "metadata": {
    "slideshow": {
     "slide_type": "fragment"
    }
   },
   "outputs": [
    {
     "name": "stdout",
     "output_type": "stream",
     "text": [
      "1 2 3 100\n"
     ]
    }
   ],
   "source": [
    "def func(a, b, c=10, d=100): \n",
    "  print(a, b, c, d)\n",
    "\n",
    "func(1,2,3)"
   ]
  },
  {
   "cell_type": "markdown",
   "metadata": {
    "slideshow": {
     "slide_type": "slide"
    }
   },
   "source": [
    "### Question 3\n",
    "\n",
    "What kind of plot is displayed here?\n",
    "<img src=\"images/plot.png\" width=\"200\">\n",
    "\n",
    "1. Boxplot\n",
    "2. Scatterplot\n",
    "3. Density plot\n",
    "4. Histogram"
   ]
  },
  {
   "cell_type": "markdown",
   "metadata": {
    "slideshow": {
     "slide_type": "slide"
    }
   },
   "source": [
    "### Question 4\n",
    "\n",
    "Following pandas data structure should be used for storing in the memory a table with several columns:\n",
    "\n",
    "1. Dictionary of lists\n",
    "2. Dataframe\n",
    "3. Series\n",
    "4. CSV file"
   ]
  },
  {
   "cell_type": "markdown",
   "metadata": {
    "slideshow": {
     "slide_type": "slide"
    }
   },
   "source": [
    "### Question 5\n",
    "\n",
    "Which of the following statements about pandas Series and DataFrame objects is **not** true:\n",
    "\n",
    "1. Both DataFrame and Series have an index.\n",
    "2. Boolean indexing is only applicable to Series.\n",
    "3. Only DataFrame has multiple columns.\n",
    "4. Selecting a single column from the DataFrame will return a Series object. "
   ]
  },
  {
   "cell_type": "markdown",
   "metadata": {
    "slideshow": {
     "slide_type": "slide"
    }
   },
   "source": [
    "### Question 6\n",
    "\n",
    "The lower is the RMSE value for a regression model …\n",
    "\n",
    "1. the better the model approximates the data points from the training set\n",
    "2. the worse the model approximates the real data points from the training set\n",
    "3. the lower is the order of the model\n",
    "4. the higher is the order of the model"
   ]
  },
  {
   "cell_type": "markdown",
   "metadata": {
    "slideshow": {
     "slide_type": "slide"
    }
   },
   "source": [
    "### Question 7\n",
    "\n",
    "Two linear regression models are plotted with dots representing the training set and a blue line representing the  model\n",
    "\n",
    "<img src=\"images/regression.png\" width=\"500\">\n",
    "\n",
    "\n",
    "Which of the models has a smaller RMSE?\n",
    "1. First model.\n",
    "2. Second model.\n",
    "3. It cannot be inferred from the diagrams\n",
    "4. The presence of the outlier in the second model makes RMSE measure not applicable."
   ]
  },
  {
   "cell_type": "markdown",
   "metadata": {
    "slideshow": {
     "slide_type": "slide"
    }
   },
   "source": [
    "### Question 8\n",
    "\n",
    "When performing a distributed computation, what is usually a major performance bottleneck (main cause of delays)?\n",
    "\n",
    "1. The need to move data between different computers over the network.\n",
    "2. The time spent on reading/writing data from the local memory.\n",
    "3. The heat produced by the computers in a datacenter.\n",
    "4. The need to periodically reboot computers."
   ]
  },
  {
   "cell_type": "markdown",
   "metadata": {
    "slideshow": {
     "slide_type": "slide"
    }
   },
   "source": [
    "### Question 9\n",
    "\n",
    "In Spark, *lazy evaluation* of transformations means that ...\n",
    "\n",
    "1. transformations are computed only when an action has to be applied to an RDD.\n",
    "2. execution of transformations is artificially slowed down to avoid hardware failures.\n",
    "3. some transformations may be ignored by Spark.\n",
    "4. no transformations are executed until the cluster is initialised."
   ]
  },
  {
   "cell_type": "markdown",
   "metadata": {
    "slideshow": {
     "slide_type": "slide"
    }
   },
   "source": [
    "### Question 10\n",
    "\n",
    "Consider following program that is running on a Spark cluster with sc being SparkContext object:\n",
    "\n",
    "```python\n",
    "str = 'Hello World'\n",
    "# str.split() splits string `str` in a list  of tokens (words), \n",
    "# that are separated by space character in `str`\n",
    "rdd = sc.parallelize(str.split())\n",
    "result = rdd.filter(lambda word: 'l' in word).collect()\n",
    "print(result)\n",
    "```\n",
    "\n",
    "What will be printed out as a result?\n",
    "1. 3\n",
    "2. 2\n",
    "3. `['l','l','l']`\n",
    "4. `['Hello', 'World']`"
   ]
  },
  {
   "cell_type": "markdown",
   "metadata": {
    "slideshow": {
     "slide_type": "slide"
    }
   },
   "source": [
    "## Programming And Theory"
   ]
  },
  {
   "cell_type": "markdown",
   "metadata": {
    "slideshow": {
     "slide_type": "slide"
    }
   },
   "source": [
    "### Hints\n",
    "\n",
    "* Understanding (not memorising) of lectures and exercises material is sufficient\n",
    "* Write  <span style=\"color:red\">short</span> answers! One sentence is enough."
   ]
  },
  {
   "cell_type": "markdown",
   "metadata": {
    "slideshow": {
     "slide_type": "slide"
    }
   },
   "source": [
    "### Question 1\n",
    "\n",
    "What will be printed out when the following Python code is executed?\n",
    "\n",
    "```python\n",
    "lst = [1, 3, 2, 0, 9]\n",
    "result = 0\n",
    "for i in lst:\n",
    "    if i % 2 == 0:\n",
    "        result = result + i\n",
    "print(result)\n",
    "```"
   ]
  },
  {
   "cell_type": "code",
   "execution_count": 7,
   "metadata": {
    "slideshow": {
     "slide_type": "fragment"
    }
   },
   "outputs": [
    {
     "name": "stdout",
     "output_type": "stream",
     "text": [
      "2\n"
     ]
    }
   ],
   "source": [
    "lst = [1, 3, 2, 0, 9]\n",
    "result = 0\n",
    "for i in lst:\n",
    "    if i % 2 == 0:\n",
    "        result = result + i\n",
    "print(result)"
   ]
  },
  {
   "cell_type": "markdown",
   "metadata": {
    "slideshow": {
     "slide_type": "slide"
    }
   },
   "source": [
    "### Question 2\n",
    "\n",
    "What will be printed out when the following Python code is executed?\n",
    "\n",
    "```python\n",
    "class MyClass:\n",
    "    def __init__(self, number):\n",
    "        self.num = number\n",
    "\n",
    "    def show(self):\n",
    "        print(self.num)\n",
    "\n",
    "my_object = MyClass(42)\n",
    "my_object.show()\n",
    "```"
   ]
  },
  {
   "cell_type": "code",
   "execution_count": 8,
   "metadata": {
    "slideshow": {
     "slide_type": "fragment"
    }
   },
   "outputs": [
    {
     "name": "stdout",
     "output_type": "stream",
     "text": [
      "42\n"
     ]
    }
   ],
   "source": [
    "class MyClass:\n",
    "    def __init__(self, number):\n",
    "        self.num = number\n",
    "\n",
    "    def show(self):\n",
    "        print(self.num)\n",
    "\n",
    "my_object = MyClass(42)\n",
    "my_object.show()"
   ]
  },
  {
   "cell_type": "markdown",
   "metadata": {
    "slideshow": {
     "slide_type": "slide"
    }
   },
   "source": [
    "### Question 3\n",
    "\n",
    "Name two approaches (out of three mentioned in the lecture) used for extracting data residing in the Internet (e.g., Wikipedia, Facebook, job portals, etc.)."
   ]
  },
  {
   "cell_type": "markdown",
   "metadata": {
    "slideshow": {
     "slide_type": "slide"
    }
   },
   "source": [
    "### Question 4\n",
    "\n",
    "When writing a script for scraping a web page located under\n",
    "www.example.com/page2scrape.html\n",
    "with BeautifulSoup, following code is often executed in the very beginning of the script:\n",
    "\n",
    "```python\n",
    "import requests\n",
    "\n",
    "url = 'www.example.com/page2scrape.html'\n",
    "source = requests.get(url).text\n",
    "```\n",
    "\n",
    "What is the purpose of this code fragment and what data will variable `source` contain?"
   ]
  },
  {
   "cell_type": "markdown",
   "metadata": {
    "slideshow": {
     "slide_type": "slide"
    }
   },
   "source": [
    "### Question 5\n",
    "\n",
    "Given the following Series about cities and their areas:\n",
    "\n",
    "```python\n",
    "d = {'Chicago': 1000, 'New York': 1300, \n",
    "     'Portland': 900, 'San Francisco': 1100,\n",
    "     'Austin': 450, 'Boston': None}\n",
    "cities = pd.Series(d)\n",
    "```\n",
    "\n",
    "create a new Series containing information only about cities with areas larger than 1000:\n",
    "\n",
    "```python\n",
    "large_cities = cities[<Fill out>]\n",
    "```"
   ]
  },
  {
   "cell_type": "code",
   "execution_count": 9,
   "metadata": {
    "slideshow": {
     "slide_type": "fragment"
    }
   },
   "outputs": [
    {
     "data": {
      "text/plain": "New York         1300.0\nSan Francisco    1100.0\ndtype: float64"
     },
     "execution_count": 9,
     "metadata": {},
     "output_type": "execute_result"
    }
   ],
   "source": [
    "import pandas as pd\n",
    "d = {'Chicago': 1000, 'New York': 1300, \n",
    "     'Portland': 900, 'San Francisco': 1100,\n",
    "     'Austin': 450, 'Boston': None}\n",
    "cities = pd.Series(d)\n",
    "\n",
    "large_cities = cities[cities > 1000]\n",
    "large_cities"
   ]
  },
  {
   "cell_type": "markdown",
   "metadata": {
    "slideshow": {
     "slide_type": "slide"
    }
   },
   "source": [
    "### Question 6\n",
    "\n",
    "Draw a table describing the resulting DataFrame df_result after the following code is executed:\n",
    "\n",
    "```python\n",
    "import pandas as pd\n",
    "\n",
    "df_employee = pd.DataFrame(\n",
    "{'LastName': ['Rafferty', 'Jones', 'Heisenberg', 'Robinson', \n",
    "      'Smith', 'Williams'],\n",
    "'DepartmentId': [31, 33, 33, 34, 34, np.nan]\n",
    "})\n",
    "\n",
    "df_department = pd.DataFrame(\n",
    "  {'DepartmentName': ['Sales', 'Engineering', 'Clerical', \n",
    "   'Marketing']}, \n",
    "  index = [31, 33, 34, 35]\n",
    ")\n",
    "\n",
    "df_result = pd.merge(df_employee, df_department,               \n",
    "                     left_on='DepartmentId', \n",
    "                     right_index=True, how='inner')\n",
    "```"
   ]
  },
  {
   "cell_type": "code",
   "execution_count": 12,
   "metadata": {
    "slideshow": {
     "slide_type": "subslide"
    }
   },
   "outputs": [
    {
     "ename": "AttributeError",
     "evalue": "'list' object has no attribute 'split'",
     "output_type": "error",
     "traceback": [
      "\u001B[0;31m---------------------------------------------------------------------------\u001B[0m",
      "\u001B[0;31mAttributeError\u001B[0m                            Traceback (most recent call last)",
      "\u001B[0;32m<ipython-input-12-bcbb136eb9e9>\u001B[0m in \u001B[0;36m<module>\u001B[0;34m\u001B[0m\n\u001B[0;32m----> 1\u001B[0;31m \u001B[0mprint\u001B[0m\u001B[0;34m(\u001B[0m\u001B[0;34m[\u001B[0m\u001B[0;36m1\u001B[0m\u001B[0;34m,\u001B[0m\u001B[0;36m2\u001B[0m\u001B[0;34m,\u001B[0m\u001B[0;36m3\u001B[0m\u001B[0;34m,\u001B[0m\u001B[0;36m4\u001B[0m\u001B[0;34m,\u001B[0m\u001B[0;36m5\u001B[0m\u001B[0;34m,\u001B[0m\u001B[0;36m6\u001B[0m\u001B[0;34m]\u001B[0m\u001B[0;34m.\u001B[0m\u001B[0msplit\u001B[0m\u001B[0;34m(\u001B[0m\u001B[0;34m)\u001B[0m\u001B[0;34m)\u001B[0m\u001B[0;34m\u001B[0m\u001B[0;34m\u001B[0m\u001B[0m\n\u001B[0m\u001B[1;32m      2\u001B[0m \u001B[0;34m\u001B[0m\u001B[0m\n",
      "\u001B[0;31mAttributeError\u001B[0m: 'list' object has no attribute 'split'"
     ]
    }
   ],
   "source": [
    "print([1,2,3,4,5,6].split())"
   ]
  },
  {
   "cell_type": "markdown",
   "metadata": {
    "slideshow": {
     "slide_type": "slide"
    }
   },
   "source": [
    "### Question 7\n",
    "\n",
    "df_data is a DataFrame with columns `var_1`, `var_2`, `dependent_var` and the following program is fitting a linear regression model for these variables:\n",
    "\n",
    "```python\n",
    "lst = [1,2,3,4,5,6]\n",
    "print(lst.split())\n",
    "```\n",
    "\n",
    "Provide a linear expression defining the regression model used in this program."
   ]
  },
  {
   "cell_type": "markdown",
   "metadata": {
    "slideshow": {
     "slide_type": "slide"
    }
   },
   "source": [
    "$$dependent\\_var = c + \\alpha_1 * var_1 + \\alpha_2 * var_2$$"
   ]
  },
  {
   "cell_type": "markdown",
   "metadata": {
    "slideshow": {
     "slide_type": "slide"
    }
   },
   "source": [
    "### Question 8\n",
    "\n",
    "Increasing the order of a linear regression in most of the cases reduces the RMSE and, thus, allows model to better fit the training data. Why it is often a bad idea to use a high order models?"
   ]
  },
  {
   "cell_type": "markdown",
   "metadata": {
    "slideshow": {
     "slide_type": "slide"
    }
   },
   "source": [
    "### Question 9\n",
    "\n",
    "Spark provides a significant performance improvement as compared to distributed computing solutions that involve lots of disk input/output operations (e.g., Hadoop). How does Spark avoids disk input/output bottleneck?\n"
   ]
  },
  {
   "cell_type": "markdown",
   "metadata": {
    "slideshow": {
     "slide_type": "slide"
    }
   },
   "source": [
    "### Question 10\n",
    "\n",
    "Consider following program that is running on a Spark cluster with sc being SparkContext object:\n",
    "\n",
    "```python\n",
    "rdd = sc.parallelize([1, 2, 2, 4]) \n",
    "result = rdd.map(lambda x: x * 2).distinct().collect()\n",
    "print(result)\n",
    "```\n",
    "\n",
    "What will be printed out as a result?"
   ]
  }
 ],
 "metadata": {
  "celltoolbar": "Slideshow",
  "kernelspec": {
   "display_name": "Python 3",
   "language": "python",
   "name": "python3"
  },
  "language_info": {
   "codemirror_mode": {
    "name": "ipython",
    "version": 3
   },
   "file_extension": ".py",
   "mimetype": "text/x-python",
   "name": "python",
   "nbconvert_exporter": "python",
   "pygments_lexer": "ipython3",
   "version": "3.7.9"
  }
 },
 "nbformat": 4,
 "nbformat_minor": 2
}