{
 "cells": [
  {
   "cell_type": "markdown",
   "metadata": {},
   "source": [
    "# Linear Regression - Project Exercise\n",
    "\n",
    "Consider a scenario on whichyou got some contract work with an Ecommerce company based in New York City that sells clothing online but they also have in-store style and clothing advice sessions. Customers come in to the store, have sessions/meetings with a personal stylist, then they can go home and order either on a mobile app or website for the clothes they want.\n",
    "\n",
    "The company is trying to decide whether to focus their efforts on their mobile app experience or their website. They've hired you on contract to help them figure it out!\n",
    "\n",
    "Just follow the steps below to analyze the customer data. "
   ]
  },
  {
   "cell_type": "markdown",
   "metadata": {},
   "source": [
    "## Imports\n",
    "Import pandas, numpy, matplotlib.\n",
    "(You'll import sklearn as you need it.)"
   ]
  },
  {
   "cell_type": "code",
   "execution_count": 73,
   "metadata": {
    "collapsed": true
   },
   "outputs": [],
   "source": [
    "import pandas as pd\n",
    "import numpy as np\n",
    "import matplotlib.pyplot as plt"
   ]
  },
  {
   "cell_type": "markdown",
   "metadata": {},
   "source": [
    "## Exercise 1 - Get the Data\n",
    "\n",
    "Get the Data\n",
    "\n",
    "We'll work with the Ecommerce Customers csv file from the company. It has Customer info, suchas Email, Address, and their color Avatar. Then it also has numerical value columns:\n",
    "\n",
    "* Avg. Session Length: Average session of in-store style advice sessions.\n",
    "* Time on App: Average time spent on App in minutes\n",
    "* Time on Website: Average time spent on Website in minutes\n",
    "* Length of Membership: How many years the customer has been a member. \n",
    "\n",
    "Read in the Ecommerce Customers csv file as a DataFrame called customers."
   ]
  },
  {
   "cell_type": "code",
   "execution_count": 74,
   "metadata": {
    "collapsed": true
   },
   "outputs": [
    {
     "data": {
      "text/plain": "                             Email  \\\n0        mstephenson@fernandez.com   \n1                hduke@hotmail.com   \n2                 pallen@yahoo.com   \n3          riverarebecca@gmail.com   \n4    mstephens@davidson-herman.com   \n..                             ...   \n495   lewisjessica@craig-evans.com   \n496            katrina56@gmail.com   \n497             dale88@hotmail.com   \n498            cwilson@hotmail.com   \n499      hannahwilson@davidson.com   \n\n                                               Address            Avatar  \\\n0         835 Frank Tunnel\\nWrightmouth, MI 82180-9605            Violet   \n1       4547 Archer Common\\nDiazchester, CA 06566-8576         DarkGreen   \n2    24645 Valerie Unions Suite 582\\nCobbborough, D...            Bisque   \n3     1414 David Throughway\\nPort Jason, OH 22070-1220       SaddleBrown   \n4    14023 Rodriguez Passage\\nPort Jacobville, PR 3...  MediumAquaMarine   \n..                                                 ...               ...   \n495  4483 Jones Motorway Suite 872\\nLake Jamiefurt,...               Tan   \n496  172 Owen Divide Suite 497\\nWest Richard, CA 19320     PaleVioletRed   \n497  0787 Andrews Ranch Apt. 633\\nSouth Chadburgh, ...          Cornsilk   \n498  680 Jennifer Lodge Apt. 808\\nBrendachester, TX...              Teal   \n499  49791 Rachel Heights Apt. 898\\nEast Drewboroug...       DarkMagenta   \n\n     Avg. Session Length  Time on App  Time on Website  Length of Membership  \\\n0              34.497268    12.655651        39.577668              4.082621   \n1              31.926272    11.109461        37.268959              2.664034   \n2              33.000915    11.330278        37.110597              4.104543   \n3              34.305557    13.717514        36.721283              3.120179   \n4              33.330673    12.795189        37.536653              4.446308   \n..                   ...          ...              ...                   ...   \n495            33.237660    13.566160        36.417985              3.746573   \n496            34.702529    11.695736        37.190268              3.576526   \n497            32.646777    11.499409        38.332576              4.958264   \n498            33.322501    12.391423        36.840086              2.336485   \n499            33.715981    12.418808        35.771016              2.735160   \n\n     Yearly Amount Spent  \n0             587.951054  \n1             392.204933  \n2             487.547505  \n3             581.852344  \n4             599.406092  \n..                   ...  \n495           573.847438  \n496           529.049004  \n497           551.620145  \n498           456.469510  \n499           497.778642  \n\n[500 rows x 8 columns]",
      "text/html": "<div>\n<style scoped>\n    .dataframe tbody tr th:only-of-type {\n        vertical-align: middle;\n    }\n\n    .dataframe tbody tr th {\n        vertical-align: top;\n    }\n\n    .dataframe thead th {\n        text-align: right;\n    }\n</style>\n<table border=\"1\" class=\"dataframe\">\n  <thead>\n    <tr style=\"text-align: right;\">\n      <th></th>\n      <th>Email</th>\n      <th>Address</th>\n      <th>Avatar</th>\n      <th>Avg. Session Length</th>\n      <th>Time on App</th>\n      <th>Time on Website</th>\n      <th>Length of Membership</th>\n      <th>Yearly Amount Spent</th>\n    </tr>\n  </thead>\n  <tbody>\n    <tr>\n      <th>0</th>\n      <td>mstephenson@fernandez.com</td>\n      <td>835 Frank Tunnel\\nWrightmouth, MI 82180-9605</td>\n      <td>Violet</td>\n      <td>34.497268</td>\n      <td>12.655651</td>\n      <td>39.577668</td>\n      <td>4.082621</td>\n      <td>587.951054</td>\n    </tr>\n    <tr>\n      <th>1</th>\n      <td>hduke@hotmail.com</td>\n      <td>4547 Archer Common\\nDiazchester, CA 06566-8576</td>\n      <td>DarkGreen</td>\n      <td>31.926272</td>\n      <td>11.109461</td>\n      <td>37.268959</td>\n      <td>2.664034</td>\n      <td>392.204933</td>\n    </tr>\n    <tr>\n      <th>2</th>\n      <td>pallen@yahoo.com</td>\n      <td>24645 Valerie Unions Suite 582\\nCobbborough, D...</td>\n      <td>Bisque</td>\n      <td>33.000915</td>\n      <td>11.330278</td>\n      <td>37.110597</td>\n      <td>4.104543</td>\n      <td>487.547505</td>\n    </tr>\n    <tr>\n      <th>3</th>\n      <td>riverarebecca@gmail.com</td>\n      <td>1414 David Throughway\\nPort Jason, OH 22070-1220</td>\n      <td>SaddleBrown</td>\n      <td>34.305557</td>\n      <td>13.717514</td>\n      <td>36.721283</td>\n      <td>3.120179</td>\n      <td>581.852344</td>\n    </tr>\n    <tr>\n      <th>4</th>\n      <td>mstephens@davidson-herman.com</td>\n      <td>14023 Rodriguez Passage\\nPort Jacobville, PR 3...</td>\n      <td>MediumAquaMarine</td>\n      <td>33.330673</td>\n      <td>12.795189</td>\n      <td>37.536653</td>\n      <td>4.446308</td>\n      <td>599.406092</td>\n    </tr>\n    <tr>\n      <th>...</th>\n      <td>...</td>\n      <td>...</td>\n      <td>...</td>\n      <td>...</td>\n      <td>...</td>\n      <td>...</td>\n      <td>...</td>\n      <td>...</td>\n    </tr>\n    <tr>\n      <th>495</th>\n      <td>lewisjessica@craig-evans.com</td>\n      <td>4483 Jones Motorway Suite 872\\nLake Jamiefurt,...</td>\n      <td>Tan</td>\n      <td>33.237660</td>\n      <td>13.566160</td>\n      <td>36.417985</td>\n      <td>3.746573</td>\n      <td>573.847438</td>\n    </tr>\n    <tr>\n      <th>496</th>\n      <td>katrina56@gmail.com</td>\n      <td>172 Owen Divide Suite 497\\nWest Richard, CA 19320</td>\n      <td>PaleVioletRed</td>\n      <td>34.702529</td>\n      <td>11.695736</td>\n      <td>37.190268</td>\n      <td>3.576526</td>\n      <td>529.049004</td>\n    </tr>\n    <tr>\n      <th>497</th>\n      <td>dale88@hotmail.com</td>\n      <td>0787 Andrews Ranch Apt. 633\\nSouth Chadburgh, ...</td>\n      <td>Cornsilk</td>\n      <td>32.646777</td>\n      <td>11.499409</td>\n      <td>38.332576</td>\n      <td>4.958264</td>\n      <td>551.620145</td>\n    </tr>\n    <tr>\n      <th>498</th>\n      <td>cwilson@hotmail.com</td>\n      <td>680 Jennifer Lodge Apt. 808\\nBrendachester, TX...</td>\n      <td>Teal</td>\n      <td>33.322501</td>\n      <td>12.391423</td>\n      <td>36.840086</td>\n      <td>2.336485</td>\n      <td>456.469510</td>\n    </tr>\n    <tr>\n      <th>499</th>\n      <td>hannahwilson@davidson.com</td>\n      <td>49791 Rachel Heights Apt. 898\\nEast Drewboroug...</td>\n      <td>DarkMagenta</td>\n      <td>33.715981</td>\n      <td>12.418808</td>\n      <td>35.771016</td>\n      <td>2.735160</td>\n      <td>497.778642</td>\n    </tr>\n  </tbody>\n</table>\n<p>500 rows × 8 columns</p>\n</div>"
     },
     "execution_count": 74,
     "metadata": {},
     "output_type": "execute_result"
    }
   ],
   "source": [
    "pd.read_csv('data/Ecommerce Customers')"
   ]
  },
  {
   "cell_type": "markdown",
   "metadata": {},
   "source": [
    "**Check the head of customers, and check out its info() and describe() methods.**"
   ]
  },
  {
   "cell_type": "code",
   "execution_count": 74,
   "metadata": {},
   "outputs": [],
   "source": []
  },
  {
   "cell_type": "code",
   "execution_count": 74,
   "metadata": {},
   "outputs": [],
   "source": []
  },
  {
   "cell_type": "code",
   "execution_count": 74,
   "metadata": {},
   "outputs": [],
   "source": []
  },
  {
   "cell_type": "markdown",
   "metadata": {},
   "source": [
    "## Exercise 2 - Training and Testing Data\n",
    "\n",
    "Let's go ahead and split the data into training and testing sets.\n",
    "\n",
    "Set a variable X equal to the numerical features of the customers and a variable y equal to the \"Yearly Amount Spent\" column."
   ]
  },
  {
   "cell_type": "code",
   "execution_count": 74,
   "metadata": {
    "collapsed": true
   },
   "outputs": [],
   "source": []
  },
  {
   "cell_type": "code",
   "execution_count": 74,
   "metadata": {
    "collapsed": true
   },
   "outputs": [],
   "source": []
  },
  {
   "cell_type": "markdown",
   "metadata": {},
   "source": [
    "Use model_selection.train_test_split from sklearn to split the data into training and testing sets. Set test_size=0.3 and random_state=101"
   ]
  },
  {
   "cell_type": "code",
   "execution_count": 74,
   "metadata": {
    "collapsed": true
   },
   "outputs": [],
   "source": []
  },
  {
   "cell_type": "code",
   "execution_count": 74,
   "metadata": {
    "collapsed": true
   },
   "outputs": [],
   "source": []
  },
  {
   "cell_type": "markdown",
   "metadata": {},
   "source": [
    "## Exercise 3 - Training the Model\n",
    "\n",
    "Now its time to train our model on our training data!\n",
    "\n",
    "Import LinearRegression from sklearn.linear_model"
   ]
  },
  {
   "cell_type": "code",
   "execution_count": 74,
   "metadata": {
    "collapsed": true
   },
   "outputs": [],
   "source": []
  },
  {
   "cell_type": "markdown",
   "metadata": {},
   "source": [
    "Create an instance of a LinearRegression() model named lm."
   ]
  },
  {
   "cell_type": "code",
   "execution_count": 74,
   "metadata": {
    "collapsed": true
   },
   "outputs": [],
   "source": []
  },
  {
   "cell_type": "markdown",
   "metadata": {},
   "source": [
    "Train/fit lm on the training data."
   ]
  },
  {
   "cell_type": "code",
   "execution_count": 74,
   "metadata": {},
   "outputs": [],
   "source": []
  },
  {
   "cell_type": "markdown",
   "metadata": {},
   "source": [
    "Print out the coefficients of the model"
   ]
  },
  {
   "cell_type": "code",
   "execution_count": 74,
   "metadata": {},
   "outputs": [],
   "source": []
  },
  {
   "cell_type": "markdown",
   "metadata": {},
   "source": [
    "## Exercise 4 - Predicting Test Data\n",
    "Now that we have fit our model, let's evaluate its performance by predicting off the test values!\n",
    "\n",
    "Use `lm.predict()` to predict off the `X_test` set of the data."
   ]
  },
  {
   "cell_type": "code",
   "execution_count": 74,
   "metadata": {
    "collapsed": true
   },
   "outputs": [],
   "source": []
  },
  {
   "cell_type": "markdown",
   "metadata": {},
   "source": [
    "Create a scatterplot of the real test values versus the predicted values."
   ]
  },
  {
   "cell_type": "code",
   "execution_count": 74,
   "metadata": {},
   "outputs": [],
   "source": []
  },
  {
   "cell_type": "markdown",
   "metadata": {},
   "source": [
    "## Exercise 5 - Evaluating the Model\n",
    "\n",
    "Let's evaluate our model performance by calculating the residual sum of squares and the explained variance score (R^2).\n",
    "\n",
    "Calculate the Mean Absolute Error, Mean Squared Error, and the Root Mean Squared Error. Refer to the lecture or to Wikipedia for the formulas"
   ]
  },
  {
   "cell_type": "code",
   "execution_count": 74,
   "metadata": {},
   "outputs": [],
   "source": []
  },
  {
   "cell_type": "markdown",
   "metadata": {},
   "source": [
    "## Exercise 6 - Conclusion\n",
    "We still want to figure out the answer to the original question, do we focus our efforst on mobile app or website development? Or maybe that doesn't even really matter, and Membership Time is what is really important.  Let's see if we can interpret the coefficients at all to get an idea.\n",
    "\n",
    "Recreate the dataframe below."
   ]
  },
  {
   "cell_type": "code",
   "execution_count": 75,
   "metadata": {},
   "outputs": [
    {
     "data": {
      "text/plain": "<Figure size 432x288 with 1 Axes>",
      "image/png": "[encoded data removed]"
     },
     "metadata": {},
     "output_type": "display_data"
    }
   ],
   "source": [
    "from matplotlib import pyplot as plt\n",
    "import numpy as np\n",
    "fig = plt.figure()\n",
    "ax = fig.add_axes([0,0,1,1])\n",
    "ax.axis('equal')\n",
    "langs = ['Facebook', 'Snapchat', 'Applovin', 'Tiktok', 'Iron Source']\n",
    "def func(pct, allvals):\n",
    "    absolute = int(pct/100.*np.sum(allvals))\n",
    "    return absolute\n",
    "data = [5134,\n",
    "336,\n",
    "14,\n",
    "23,\n",
    "11,]\n",
    "wedges, texts, autotexts = ax.pie(data,autopct=lambda pct: func(pct, data))\n",
    "ax.legend(wedges, langs,\n",
    "          title=\"Partners\",\n",
    "          loc=\"center left\",\n",
    "          bbox_to_anchor=(1, 0, 0.5, 1))\n",
    "plt.show()"
   ]
  },
  {
   "cell_type": "code",
   "metadata": {
    "pycharm": {
     "name": "#%%\n"
    }
   },
   "source": [
    "from matplotlib import pyplot as plt\n",
    "import numpy as np\n",
    "fig = plt.figure()\n",
    "ax = fig.add_axes([0,0,1,1])\n",
    "ax.axis('equal')\n",
    "langs = ['Active', 'Broken']\n",
    "def func(pct, allvals):\n",
    "    absolute = int(pct/100.*np.sum(allvals))\n",
    "    return \"{:.1f}%\\n({:d})\".format(pct, absolute)\n",
    "data = [4897,621]\n",
    "wedges, texts, autotexts = ax.pie(data,autopct=lambda pct: func(pct, data))\n",
    "ax.legend(wedges, langs,\n",
    "          title=\"Status\",\n",
    "          loc=\"center left\",\n",
    "          bbox_to_anchor=(1, 0, 0.5, 1))\n",
    "plt.show()"
   ],
   "execution_count": 76,
   "outputs": [
    {
     "data": {
      "text/plain": "<Figure size 432x288 with 1 Axes>",
      "image/png": "[encoded data removed]"
     },
     "metadata": {},
     "output_type": "display_data"
    }
   ]
  },
  {
   "cell_type": "markdown",
   "metadata": {},
   "source": [
    "\n",
    "*Answer here*"
   ]
  },
  {
   "cell_type": "markdown",
   "metadata": {},
   "source": [
    "Do you think the company should focus more on their mobile app or on their website?"
   ]
  },
  {
   "cell_type": "markdown",
   "metadata": {},
   "source": []
  }
 ],
 "metadata": {
  "kernelspec": {
   "display_name": "Python 3",
   "language": "python",
   "name": "python3"
  },
  "language_info": {
   "codemirror_mode": {
    "name": "ipython",
    "version": 3
   },
   "file_extension": ".py",
   "mimetype": "text/x-python",
   "name": "python",
   "nbconvert_exporter": "python",
   "pygments_lexer": "ipython3",
   "version": "3.7.9"
  }
 },
 "nbformat": 4,
 "nbformat_minor": 2
}