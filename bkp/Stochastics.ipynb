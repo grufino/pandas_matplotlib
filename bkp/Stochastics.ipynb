{
 "cells": [
  {
   "cell_type": "markdown",
   "source": [
    "# Introduction to Spark\n",
    "\n",
    "Apache Spark is an open-source distributed general-purpose cluster-computing framework. Spark provides an interface for programming entire clusters with implicit data parallelism and fault tolerance.\n",
    "\n",
    "During this lecture we try out some basic spark concepts and operations. We start by loading a data into a Resilient Distributed Data Dataset (RDD) and perform some basic transformations and actions on these data.\n"
   ],
   "metadata": {
    "collapsed": false
   }
  },
  {
   "cell_type": "code",
   "execution_count": 15,
   "outputs": [
    {
     "name": "stdout",
     "output_type": "stream",
     "text": [
      "PMF =  [0.25 0.75]\n",
      "[3 5 6 5 6 4 5 5 5 3]\n"
     ]
    },
    {
     "data": {
      "text/plain": "Text(0.5, 1.0, \"('PMF = ', array([0.25, 0.75]), 'Rademacher R.V.')\")"
     },
     "execution_count": 15,
     "metadata": {},
     "output_type": "execute_result"
    },
    {
     "data": {
      "text/plain": "<Figure size 432x288 with 1 Axes>",
      "image/png": "[encoded data removed]"
     },
     "metadata": {
      "needs_background": "light"
     },
     "output_type": "display_data"
    }
   ],
   "source": [
    "from scipy.stats import bernoulli\n",
    "import matplotlib.pyplot as plt\n",
    "import numpy as np\n",
    "import math\n",
    "from scipy.stats import binom\n",
    "from numpy import random\n",
    "\n",
    "x = [0,1]\n",
    "p = 0.75\n",
    "\n",
    "print(\"PMF = \", bernoulli.pmf(x,p))\n",
    "\n",
    "bins = np.arange(-100, 100, 5)\n",
    "\n",
    "def bernoulli_to_rademacher(var):\n",
    "    if var == 0:\n",
    "        return -1\n",
    "    else: return var\n",
    "print(random.binomial(n=10, p=0.5, size=10))\n",
    "for i in range(51):\n",
    "    bernoulli_exp = bernoulli.rvs(p, size=50)\n",
    "    rademacher_exp = list(map(bernoulli_to_rademacher, bernoulli_exp))\n",
    "    plt.hist(rademacher_exp,\n",
    "             density=True,\n",
    "             alpha=0.5,\n",
    "             bins=bins)\n",
    "\n",
    "str = \"PMF = \", bernoulli.pmf(x,p), \"Rademacher R.V.\"\n",
    "plt.title(str)"
   ],
   "metadata": {
    "collapsed": false,
    "pycharm": {
     "name": "#%%\n"
    }
   }
  },
  {
   "cell_type": "code",
   "execution_count": 16,
   "outputs": [],
   "source": [
    "from scipy.stats import bernoulli\n",
    "import matplotlib.pyplot as plt\n",
    "import numpy as np\n",
    "# def get_p(n):\n",
    "#     return 1/n\n",
    "#\n",
    "# x = range(1, 9999)\n",
    "# y = list(map(get_p, x))\n",
    "#\n",
    "# plt.plot(x, y, 'o', color='blue');"
   ],
   "metadata": {
    "collapsed": false,
    "pycharm": {
     "name": "#%%\n"
    }
   }
  },
  {
   "cell_type": "code",
   "execution_count": 17,
   "outputs": [
    {
     "name": "stderr",
     "output_type": "stream",
     "text": [
      "/usr/local/lib/python3.9/site-packages/seaborn/distributions.py:2557: FutureWarning: `distplot` is a deprecated function and will be removed in a future version. Please adapt your code to use either `displot` (a figure-level function with similar flexibility) or `histplot` (an axes-level function for histograms).\n",
      "  warnings.warn(msg, FutureWarning)\n"
     ]
    },
    {
     "data": {
      "text/plain": "<Figure size 432x288 with 1 Axes>",
      "image/png": "[encoded data removed]"
     },
     "metadata": {
      "needs_background": "light"
     },
     "output_type": "display_data"
    }
   ],
   "source": [
    "from numpy import random\n",
    "import matplotlib.pyplot as plt\n",
    "import seaborn as sns\n",
    "\n",
    "data = random.binomial(n=50, p=0.25, size=50)\n",
    "sns.distplot(data, hist=True, kde=False)\n",
    "\n",
    "plt.show()"
   ],
   "metadata": {
    "collapsed": false,
    "pycharm": {
     "name": "#%%\n"
    }
   }
  },
  {
   "cell_type": "code",
   "execution_count": 35,
   "outputs": [
    {
     "name": "stdout",
     "output_type": "stream",
     "text": [
      "0.9893431482629101\n",
      "1.0652087782688064\n"
     ]
    }
   ],
   "source": [
    "import numpy as np\n",
    "\n",
    "print(np.sqrt(1 - 2*np.exp(-2)) + np.exp(2*-1))\n",
    "print(np.sqrt(1 - np.exp(-2)) + np.exp(2*-1))"
   ],
   "metadata": {
    "collapsed": false,
    "pycharm": {
     "name": "#%%\n"
    }
   }
  }
 ],
 "metadata": {
  "kernelspec": {
   "display_name": "Python 3",
   "language": "python",
   "name": "python3"
  },
  "language_info": {
   "codemirror_mode": {
    "name": "ipython",
    "version": 3
   },
   "file_extension": ".py",
   "mimetype": "text/x-python",
   "name": "python",
   "nbconvert_exporter": "python",
   "pygments_lexer": "ipython3",
   "version": "3.7.4"
  },
  "name": "7_1_spark_tutorial",
  "notebookId": 4436838362988445,
  "nteract": {
   "version": "0.15.0"
  }
 },
 "nbformat": 4,
 "nbformat_minor": 2
}