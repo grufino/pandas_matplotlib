{
 "cells": [
  {
   "cell_type": "markdown",
   "metadata": {},
   "source": [
    "# Linear Regression\n",
    "\n",
    "In this tutorial we will implement a linear regression model. We will also implement a function that splits the available data into a training and a testting part.\n",
    "\n",
    "## Problem Setting\n",
    "\n",
    "We will use the Boston Housing Dataset. This dataset contains information collected by the U.S Census Service concerning housing in the city of Boston in the state of Massachusetts in 1978. Our goal is to predict the median value of the houses in a particular town in the city of Boston given its attributes. Check the file ’housing.names’ for more information on the attributes."
   ]
  },
  {
   "cell_type": "code",
   "execution_count": 275,
   "metadata": {
    "scrolled": true
   },
   "outputs": [
    {
     "name": "stdout",
     "output_type": "stream",
     "text": [
      "The autoreload extension is already loaded. To reload it, use:\n",
      "  %reload_ext autoreload\n"
     ]
    }
   ],
   "source": [
    "import urllib\n",
    "import pandas as pd\n",
    "import numpy as np\n",
    "import matplotlib.pyplot as plt\n",
    "# for auto-reloading external modules\n",
    "# see http://stackoverflow.com/questions/1907993/autoreload-of-modules-in-ipython\n",
    "%load_ext autoreload\n",
    "%autoreload 2\n",
    "\n",
    "from sklearn.datasets import load_boston\n",
    "boston=load_boston()\n",
    "testfile = urllib.request.URLopener()\n",
    "testfile.retrieve(\"https://archive.ics.uci.edu/ml/machine-learning-databases/housing/housing.names\", \"housing.names\")\n",
    "df=pd.DataFrame(boston.data)\n",
    "df.columns=['crime_rate','res_land_zoned','industry','charles_river','nox','avg_num_rooms','prop_bf_1940','dst_emply_center','rd_highway_idx','tax_rate','stdnt_tchr_ratio','prop_blacks','low_status_pct']\n",
    "X=boston.data\n",
    "y=boston.target\n"
   ]
  },
  {
   "cell_type": "code",
   "execution_count": 276,
   "metadata": {},
   "outputs": [
    {
     "data": {
      "text/plain": "   crime_rate  res_land_zoned  industry  charles_river    nox  avg_num_rooms  \\\n0     0.00632            18.0      2.31            0.0  0.538          6.575   \n1     0.02731             0.0      7.07            0.0  0.469          6.421   \n2     0.02729             0.0      7.07            0.0  0.469          7.185   \n3     0.03237             0.0      2.18            0.0  0.458          6.998   \n4     0.06905             0.0      2.18            0.0  0.458          7.147   \n5     0.02985             0.0      2.18            0.0  0.458          6.430   \n6     0.08829            12.5      7.87            0.0  0.524          6.012   \n7     0.14455            12.5      7.87            0.0  0.524          6.172   \n8     0.21124            12.5      7.87            0.0  0.524          5.631   \n9     0.17004            12.5      7.87            0.0  0.524          6.004   \n\n   prop_bf_1940  dst_emply_center  rd_highway_idx  tax_rate  stdnt_tchr_ratio  \\\n0          65.2            4.0900             1.0     296.0              15.3   \n1          78.9            4.9671             2.0     242.0              17.8   \n2          61.1            4.9671             2.0     242.0              17.8   \n3          45.8            6.0622             3.0     222.0              18.7   \n4          54.2            6.0622             3.0     222.0              18.7   \n5          58.7            6.0622             3.0     222.0              18.7   \n6          66.6            5.5605             5.0     311.0              15.2   \n7          96.1            5.9505             5.0     311.0              15.2   \n8         100.0            6.0821             5.0     311.0              15.2   \n9          85.9            6.5921             5.0     311.0              15.2   \n\n   prop_blacks  low_status_pct  \n0       396.90            4.98  \n1       396.90            9.14  \n2       392.83            4.03  \n3       394.63            2.94  \n4       396.90            5.33  \n5       394.12            5.21  \n6       395.60           12.43  \n7       396.90           19.15  \n8       386.63           29.93  \n9       386.71           17.10  ",
      "text/html": "<div>\n<style scoped>\n    .dataframe tbody tr th:only-of-type {\n        vertical-align: middle;\n    }\n\n    .dataframe tbody tr th {\n        vertical-align: top;\n    }\n\n    .dataframe thead th {\n        text-align: right;\n    }\n</style>\n<table border=\"1\" class=\"dataframe\">\n  <thead>\n    <tr style=\"text-align: right;\">\n      <th></th>\n      <th>crime_rate</th>\n      <th>res_land_zoned</th>\n      <th>industry</th>\n      <th>charles_river</th>\n      <th>nox</th>\n      <th>avg_num_rooms</th>\n      <th>prop_bf_1940</th>\n      <th>dst_emply_center</th>\n      <th>rd_highway_idx</th>\n      <th>tax_rate</th>\n      <th>stdnt_tchr_ratio</th>\n      <th>prop_blacks</th>\n      <th>low_status_pct</th>\n    </tr>\n  </thead>\n  <tbody>\n    <tr>\n      <th>0</th>\n      <td>0.00632</td>\n      <td>18.0</td>\n      <td>2.31</td>\n      <td>0.0</td>\n      <td>0.538</td>\n      <td>6.575</td>\n      <td>65.2</td>\n      <td>4.0900</td>\n      <td>1.0</td>\n      <td>296.0</td>\n      <td>15.3</td>\n      <td>396.90</td>\n      <td>4.98</td>\n    </tr>\n    <tr>\n      <th>1</th>\n      <td>0.02731</td>\n      <td>0.0</td>\n      <td>7.07</td>\n      <td>0.0</td>\n      <td>0.469</td>\n      <td>6.421</td>\n      <td>78.9</td>\n      <td>4.9671</td>\n      <td>2.0</td>\n      <td>242.0</td>\n      <td>17.8</td>\n      <td>396.90</td>\n      <td>9.14</td>\n    </tr>\n    <tr>\n      <th>2</th>\n      <td>0.02729</td>\n      <td>0.0</td>\n      <td>7.07</td>\n      <td>0.0</td>\n      <td>0.469</td>\n      <td>7.185</td>\n      <td>61.1</td>\n      <td>4.9671</td>\n      <td>2.0</td>\n      <td>242.0</td>\n      <td>17.8</td>\n      <td>392.83</td>\n      <td>4.03</td>\n    </tr>\n    <tr>\n      <th>3</th>\n      <td>0.03237</td>\n      <td>0.0</td>\n      <td>2.18</td>\n      <td>0.0</td>\n      <td>0.458</td>\n      <td>6.998</td>\n      <td>45.8</td>\n      <td>6.0622</td>\n      <td>3.0</td>\n      <td>222.0</td>\n      <td>18.7</td>\n      <td>394.63</td>\n      <td>2.94</td>\n    </tr>\n    <tr>\n      <th>4</th>\n      <td>0.06905</td>\n      <td>0.0</td>\n      <td>2.18</td>\n      <td>0.0</td>\n      <td>0.458</td>\n      <td>7.147</td>\n      <td>54.2</td>\n      <td>6.0622</td>\n      <td>3.0</td>\n      <td>222.0</td>\n      <td>18.7</td>\n      <td>396.90</td>\n      <td>5.33</td>\n    </tr>\n    <tr>\n      <th>5</th>\n      <td>0.02985</td>\n      <td>0.0</td>\n      <td>2.18</td>\n      <td>0.0</td>\n      <td>0.458</td>\n      <td>6.430</td>\n      <td>58.7</td>\n      <td>6.0622</td>\n      <td>3.0</td>\n      <td>222.0</td>\n      <td>18.7</td>\n      <td>394.12</td>\n      <td>5.21</td>\n    </tr>\n    <tr>\n      <th>6</th>\n      <td>0.08829</td>\n      <td>12.5</td>\n      <td>7.87</td>\n      <td>0.0</td>\n      <td>0.524</td>\n      <td>6.012</td>\n      <td>66.6</td>\n      <td>5.5605</td>\n      <td>5.0</td>\n      <td>311.0</td>\n      <td>15.2</td>\n      <td>395.60</td>\n      <td>12.43</td>\n    </tr>\n    <tr>\n      <th>7</th>\n      <td>0.14455</td>\n      <td>12.5</td>\n      <td>7.87</td>\n      <td>0.0</td>\n      <td>0.524</td>\n      <td>6.172</td>\n      <td>96.1</td>\n      <td>5.9505</td>\n      <td>5.0</td>\n      <td>311.0</td>\n      <td>15.2</td>\n      <td>396.90</td>\n      <td>19.15</td>\n    </tr>\n    <tr>\n      <th>8</th>\n      <td>0.21124</td>\n      <td>12.5</td>\n      <td>7.87</td>\n      <td>0.0</td>\n      <td>0.524</td>\n      <td>5.631</td>\n      <td>100.0</td>\n      <td>6.0821</td>\n      <td>5.0</td>\n      <td>311.0</td>\n      <td>15.2</td>\n      <td>386.63</td>\n      <td>29.93</td>\n    </tr>\n    <tr>\n      <th>9</th>\n      <td>0.17004</td>\n      <td>12.5</td>\n      <td>7.87</td>\n      <td>0.0</td>\n      <td>0.524</td>\n      <td>6.004</td>\n      <td>85.9</td>\n      <td>6.5921</td>\n      <td>5.0</td>\n      <td>311.0</td>\n      <td>15.2</td>\n      <td>386.71</td>\n      <td>17.10</td>\n    </tr>\n  </tbody>\n</table>\n</div>"
     },
     "execution_count": 276,
     "metadata": {},
     "output_type": "execute_result"
    }
   ],
   "source": [
    "df.head(10)"
   ]
  },
  {
   "cell_type": "markdown",
   "metadata": {},
   "source": [
    "### Exercise 1\n",
    "\n",
    "Write the *split_train_test(X,y,split,seed)*, given an instance matrix $X \\in \\mathbb{R}^{N \\times D}$, labels $y \\in Y^N$, a split ratio in $[0, 1]$ and a random seed $\\in \\mathbb{Z}$. Split the dataset in $(split×100)\\%$ of the instances for training our model and the rest for testing, i.e. \n",
    "\n",
    "$$ \\left|X_{\\text{train}}\\right| = \\lceil \\text{split} \\cdot N \\rceil, \\qquad |X_{\\text{train}}| + |X_{\\text{test}}| = N. $$\n",
    "Make sure you use the given random number generator seed so we all get the same results. The function is supposed to return:\n",
    "\n",
    "- X_train, y_train: the training instances and labels;\n",
    "- X_test, y_test: the test instances and labels,\n",
    "\n",
    "in the same order as was mentioned.\n",
    "\n",
    "Hint: It may be helpful to use shuffling functionality (e.g. np.random.shuffle)."
   ]
  },
  {
   "cell_type": "code",
   "execution_count": 277,
   "metadata": {},
   "outputs": [],
   "source": [
    "def split_train_test(X,y,split,seed):\n",
    "    Xy = []\n",
    "    length = len(y)\n",
    "    for i in range(length):\n",
    "        xyi = np.append(X[i], y[i])\n",
    "        Xy.append(xyi)\n",
    "\n",
    "    random = np.random\n",
    "    random.seed(seed)\n",
    "    random.shuffle(Xy)\n",
    "\n",
    "    split_point = round(length * split)\n",
    "\n",
    "    X_train, y_train, X_test, y_test = [],[],[],[]\n",
    "\n",
    "    for i in range(length):\n",
    "        if i <= split_point:\n",
    "            X_train.append(Xy[i][0:length-1])\n",
    "            y_train.append(Xy[i][-1])\n",
    "        elif i > split_point:\n",
    "            X_test.append(Xy[i][0:length-1])\n",
    "            y_test.append(Xy[i][-1])\n",
    "\n",
    "    return X_train, y_train, X_test, y_test"
   ]
  },
  {
   "cell_type": "markdown",
   "metadata": {},
   "source": [
    "### Exercise 2\n",
    "\n",
    "Write the function *train_linear_reg(X_train,y_train,lmbd)*.\n",
    "Implement the ridge regression model (slide 24). The function should output the learned weight vector $\\theta \\in \\mathbb{R}^D$ or $\\mathbb{R}^{D+1}$ (depending on whether you are adding *bias*)."
   ]
  },
  {
   "cell_type": "code",
   "execution_count": 278,
   "metadata": {},
   "outputs": [],
   "source": [
    "def train_linear_reg(X, y, lmbd):\n",
    "    Xm = np.array(X)\n",
    "    num_rows, num_cols = Xm.shape\n",
    "    idtt = np.identity(num_cols)\n",
    "    return np.matmul(np.linalg.inv(np.matmul(Xm.T, Xm) + (lmbd * idtt)), np.matmul(Xm.T, np.array(y)))"
   ]
  },
  {
   "cell_type": "markdown",
   "metadata": {},
   "source": [
    "### Exercise 3\n",
    "\n",
    "Write the function *predict(X,theta)* which predicts housing values vector pred for a dataset X and a previously trained parameter vector $\\theta$."
   ]
  },
  {
   "cell_type": "code",
   "execution_count": 279,
   "metadata": {},
   "outputs": [],
   "source": [
    "def predict(X, theta):\n",
    "    predictions = []\n",
    "    for x in X:\n",
    "        x_weighted_sum = 0\n",
    "        for i in range(x.size):\n",
    "            x_weighted_sum += theta[i] * x[i]\n",
    "        predictions.append(x_weighted_sum)\n",
    "    return predictions\n"
   ]
  },
  {
   "cell_type": "markdown",
   "metadata": {},
   "source": [
    "### Exercise 4\n",
    "\n",
    "Write the function *mean_abs_loss(y_true,y_pred)* which computes the mean of the absolute differences between our prediction vector $y\\_pred$ and the real housing values $y\\_true$."
   ]
  },
  {
   "cell_type": "code",
   "execution_count": 280,
   "metadata": {},
   "outputs": [
    {
     "name": "stdout",
     "output_type": "stream",
     "text": [
      "[18.19973576339029, 19.300171084967403, 26.700775189762524, 19.200316947311865, 30.099505257135842, 20.60031466027916, 49.995667932590095, 18.69983672221291, 20.60054550119304, 31.100054664022505, 14.000366877209265, 17.79922254678399, 42.299376930292944, 15.300463582635313, 18.500184796367314, 21.399876323712085, 15.000620992275618, 20.70056518013236, 21.40026012717339, 21.70004744627544, 22.000717094448653, 31.59998196446175, 22.000738556277998, 10.199494260917454, 22.599678148146182, 20.00015437878261, 17.801059617536094, 13.599994412925698, 11.800192556241266, 19.400401803778347, 21.40019917980904, 32.89983943969797, 20.800164859191053, 31.00046318036674, 17.500058732206686, 15.400128665297474, 10.800203645621648, 34.699521401891054, 25.000300498127096, 48.79920402072113, 42.79904234049661, 19.500157461873165, 30.100354283601348, 22.20019338591655, 49.997433557015036, 23.100233959749115, 32.499514138568024, 19.59972649053487, 14.900390199321793, 26.400175036124697, 36.99913695765504, 24.100116175339604, 24.500435133747285, 23.70037484769333, 7.000214882111577, 22.200280105232196, 23.300523017137298, 15.59986524536662, 13.399750461800595, 30.70011450356458, 22.300395600267425, 17.399965829932547, 49.99827471451454, 22.900140289461618, 19.69933173965493, 15.600709744016173, 17.80050186452761, 10.901186352789429, 35.099744651354, 15.699902298337244, 49.99880018607896, 22.80025422497005, 19.899658870703004, 20.10016422389397, 19.399737112687948, 45.999230554261246, 23.19932808381501, 37.60005588228747, 23.097270606902743, 13.899980745522784, 33.3001886919018, 32.999085312883885, 19.8999921122623, 20.299680203245533, 49.99637501326795, 19.400149438341604, 19.500165926691874, 22.80064095303029, 16.599968765591544, 20.00019253441907, 24.70001830936916, 45.39905666878072, 33.39951417622184, 21.399886542745964, 19.39962252263184, 5.000571013179173, 7.399898128657188, 20.09950903855277, 12.700088061201676, 20.300168030684564, 14.100481152921285, 18.300094845266262, 19.899909025857394, 23.300280119721123, 36.4998004968261, 19.99951097134143, 17.800043859664928, 8.799079632882503, 21.600346292589, 21.600364134504545, 15.200379720073673, 19.799822201556292, 21.000108846480735, 27.09899055678165, 16.800518452317622, 14.398967122560531, 22.499926694506758, 18.59989921481226, 20.100243712077244, 19.60011875287338, 24.999876402431244, 17.399918813311942, 19.700126747437967, 5.000424651700871, 16.298905536527027, 13.0998521574079, 29.59969502484045, 13.101040413345661, 19.09962366457129, 12.100953539005497, 21.700373697319097, 21.900130961894106, 33.20040075414495, 29.900051068447564, 35.39966468275376, 15.100169875591748, 31.500162177132523, 21.69993041001497, 16.4005144736063, 14.300087623731338, 11.79981735131402, 14.100563713728867, 21.100105955935092, 18.399760851772673, 48.49909727438414, 13.80082682236338, 20.900013508340933, 22.800109858394773, 12.501031474325101, 23.999936966104727, 21.000170449539844]\n",
      "[18.2, 19.3, 26.7, 19.2, 30.1, 20.6, 50.0, 18.7, 20.6, 31.1, 14.0, 17.8, 42.3, 15.3, 18.5, 21.4, 15.0, 20.7, 21.4, 21.7, 22.0, 31.6, 22.0, 10.2, 22.6, 20.0, 17.8, 13.6, 11.8, 19.4, 21.4, 32.9, 20.8, 31.0, 17.5, 15.4, 10.8, 34.7, 25.0, 48.8, 42.8, 19.5, 30.1, 22.2, 50.0, 23.1, 32.5, 19.6, 14.9, 26.4, 37.0, 24.1, 24.5, 23.7, 7.0, 22.2, 23.3, 15.6, 13.4, 30.7, 22.3, 17.4, 50.0, 22.9, 19.7, 15.6, 17.8, 10.9, 35.1, 15.7, 50.0, 22.8, 19.9, 20.1, 19.4, 46.0, 23.2, 37.6, 23.1, 13.9, 33.3, 33.0, 19.9, 20.3, 50.0, 19.4, 19.5, 22.8, 16.6, 20.0, 24.7, 45.4, 33.4, 21.4, 19.4, 5.0, 7.4, 20.1, 12.7, 20.3, 14.1, 18.3, 19.9, 23.3, 36.5, 20.0, 17.8, 8.8, 21.6, 21.6, 15.2, 19.8, 21.0, 27.1, 16.8, 14.4, 22.5, 18.6, 20.1, 19.6, 25.0, 17.4, 19.7, 5.0, 16.3, 13.1, 29.6, 13.1, 19.1, 12.1, 21.7, 21.9, 33.2, 29.9, 35.4, 15.1, 31.5, 21.7, 16.4, 14.3, 11.8, 14.1, 21.1, 18.4, 48.5, 13.8, 20.9, 22.8, 12.5, 24.0, 21.0]\n",
      "0.00044806858760954726\n"
     ]
    }
   ],
   "source": [
    "def mean_abs_loss(y_true,y_pred):\n",
    "    return abs(np.subtract(y_true, y_pred)).sum() / len(y_true)"
   ]
  },
  {
   "cell_type": "markdown",
   "metadata": {},
   "source": [
    "### Exercise 5\n",
    "\n",
    "Evaluate your solutions by running the following code. \n",
    "\n",
    "Moreover, answer the following questions: What is the most important feature in your model? Are there features that are not so important? What happens if you remove them? Are there outliers with a high absolute loss?"
   ]
  },
  {
   "cell_type": "code",
   "execution_count": 281,
   "metadata": {},
   "outputs": [
    {
     "name": "stdout",
     "output_type": "stream",
     "text": [
      "The mean absolute loss is 0.408\n"
     ]
    }
   ],
   "source": [
    "seed = 3\n",
    "lmbd=1\n",
    "split=0.7\n",
    "X_train,y_train,X_test,y_test=split_train_test(X,y,split,seed)\n",
    "theta=train_linear_reg(X_train,y_train,lmbd)\n",
    "y_pred=predict(X_test,theta)\n",
    "mae=mean_abs_loss(y_test,y_pred)\n",
    "print ('The mean absolute loss is {loss:0.3f}'.format(loss=mae*1000))"
   ]
  }
 ],
 "metadata": {
  "kernelspec": {
   "display_name": "Python 3",
   "language": "python",
   "name": "python3"
  },
  "language_info": {
   "codemirror_mode": {
    "name": "ipython",
    "version": 3
   },
   "file_extension": ".py",
   "mimetype": "text/x-python",
   "name": "python",
   "nbconvert_exporter": "python",
   "pygments_lexer": "ipython3",
   "version": "3.7.1"
  }
 },
 "nbformat": 4,
 "nbformat_minor": 1
}